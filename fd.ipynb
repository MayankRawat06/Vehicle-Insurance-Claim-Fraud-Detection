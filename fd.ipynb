{
  "nbformat": 4,
  "nbformat_minor": 0,
  "metadata": {
    "colab": {
      "provenance": [],
      "authorship_tag": "ABX9TyMabfmq+ROGGh36RzQS7wIv",
      "include_colab_link": true
    },
    "kernelspec": {
      "name": "python3",
      "display_name": "Python 3"
    },
    "language_info": {
      "name": "python"
    }
  },
  "cells": [
    {
      "cell_type": "markdown",
      "metadata": {
        "id": "view-in-github",
        "colab_type": "text"
      },
      "source": [
        "<a href=\"https://colab.research.google.com/github/MayankRawat06/Vehicle-Insurance-Claim-Fraud-Detection/blob/main/fd.ipynb\" target=\"_parent\"><img src=\"https://colab.research.google.com/assets/colab-badge.svg\" alt=\"Open In Colab\"/></a>"
      ]
    },
    {
      "cell_type": "code",
      "execution_count": null,
      "metadata": {
        "id": "hKVYIjx9qczg"
      },
      "outputs": [],
      "source": [
        "import pandas as pd\n",
        "import numpy as np\n",
        "import matplotlib.pyplot as plt\n",
        "import plotly.express as px\n",
        "import seaborn as sns\n",
        "import warnings"
      ]
    },
    {
      "cell_type": "code",
      "source": [
        "claim = pd.read_csv('Train_Claim.csv', na_values = \"?\")\n",
        "demographics= pd.read_csv('Train_Demographics.csv', na_values = \"?\")\n",
        "policy = pd.read_csv('Train_Policy.csv', na_values = \"?\")\n",
        "vehicle = pd.read_csv('Train_Vehicle.csv', na_values = \"?\")\n",
        "data = pd.read_csv('Traindata_with_Target.csv', na_values = \"?\")"
      ],
      "metadata": {
        "id": "1-dCU98Bv4EX"
      },
      "execution_count": null,
      "outputs": []
    },
    {
      "cell_type": "code",
      "execution_count": null,
      "metadata": {
        "id": "QQKoMrJgxLgg",
        "colab": {
          "base_uri": "https://localhost:8080/"
        },
        "outputId": "dd651bb6-39cf-41ff-f92e-dffd34622760"
      },
      "outputs": [
        {
          "output_type": "execute_result",
          "data": {
            "text/plain": [
              "Index(['CustomerID', 'DateOfIncident', 'TypeOfIncident', 'TypeOfCollission',\n",
              "       'SeverityOfIncident', 'AuthoritiesContacted', 'IncidentState',\n",
              "       'IncidentCity', 'IncidentAddress', 'IncidentTime', 'NumberOfVehicles',\n",
              "       'PropertyDamage', 'BodilyInjuries', 'Witnesses', 'PoliceReport',\n",
              "       'AmountOfTotalClaim', 'AmountOfInjuryClaim', 'AmountOfPropertyClaim',\n",
              "       'AmountOfVehicleDamage'],\n",
              "      dtype='object')"
            ]
          },
          "metadata": {},
          "execution_count": 5
        }
      ],
      "source": [
        "claim.columns"
      ]
    },
    {
      "cell_type": "code",
      "execution_count": null,
      "metadata": {
        "id": "o-clkyPpyY3q",
        "colab": {
          "base_uri": "https://localhost:8080/"
        },
        "outputId": "f8b2c2a2-a30f-481a-9f70-291d89a757d0"
      },
      "outputs": [
        {
          "output_type": "execute_result",
          "data": {
            "text/plain": [
              "(28836, 19)"
            ]
          },
          "metadata": {},
          "execution_count": 6
        }
      ],
      "source": [
        "claim.shape"
      ]
    },
    {
      "cell_type": "code",
      "execution_count": null,
      "metadata": {
        "id": "ygF6TQEOxRib",
        "colab": {
          "base_uri": "https://localhost:8080/"
        },
        "outputId": "62271893-0db7-494c-b27e-b76e1df1e3e3"
      },
      "outputs": [
        {
          "output_type": "execute_result",
          "data": {
            "text/plain": [
              "Index(['CustomerID', 'InsuredAge', 'InsuredZipCode', 'InsuredGender',\n",
              "       'InsuredEducationLevel', 'InsuredOccupation', 'InsuredHobbies',\n",
              "       'CapitalGains', 'CapitalLoss', 'Country'],\n",
              "      dtype='object')"
            ]
          },
          "metadata": {},
          "execution_count": 7
        }
      ],
      "source": [
        "demographics.columns"
      ]
    },
    {
      "cell_type": "code",
      "execution_count": null,
      "metadata": {
        "id": "JfR-3rxb0fBk",
        "colab": {
          "base_uri": "https://localhost:8080/"
        },
        "outputId": "c94eb5cd-7f00-41aa-9311-b5c974fe94f4"
      },
      "outputs": [
        {
          "output_type": "execute_result",
          "data": {
            "text/plain": [
              "(28836, 10)"
            ]
          },
          "metadata": {},
          "execution_count": 8
        }
      ],
      "source": [
        "demographics.shape"
      ]
    },
    {
      "cell_type": "code",
      "execution_count": null,
      "metadata": {
        "id": "kj8jD0jGyA33",
        "colab": {
          "base_uri": "https://localhost:8080/"
        },
        "outputId": "2fc0f0a3-b679-4144-b312-48f0baffefde"
      },
      "outputs": [
        {
          "output_type": "execute_result",
          "data": {
            "text/plain": [
              "Index(['InsurancePolicyNumber', 'CustomerLoyaltyPeriod',\n",
              "       'DateOfPolicyCoverage', 'InsurancePolicyState',\n",
              "       'Policy_CombinedSingleLimit', 'Policy_Deductible',\n",
              "       'PolicyAnnualPremium', 'UmbrellaLimit', 'InsuredRelationship',\n",
              "       'CustomerID'],\n",
              "      dtype='object')"
            ]
          },
          "metadata": {},
          "execution_count": 9
        }
      ],
      "source": [
        "policy.columns"
      ]
    },
    {
      "cell_type": "code",
      "execution_count": null,
      "metadata": {
        "id": "kbvNpONm0hd0",
        "colab": {
          "base_uri": "https://localhost:8080/"
        },
        "outputId": "77c9ae39-93c2-48ab-f4e0-eca3890027c5"
      },
      "outputs": [
        {
          "output_type": "execute_result",
          "data": {
            "text/plain": [
              "(28836, 10)"
            ]
          },
          "metadata": {},
          "execution_count": 10
        }
      ],
      "source": [
        "policy.shape"
      ]
    },
    {
      "cell_type": "code",
      "execution_count": null,
      "metadata": {
        "id": "gNal0HwnyFow",
        "colab": {
          "base_uri": "https://localhost:8080/"
        },
        "outputId": "728ce3c4-e804-49c3-80c4-665261f1ff45"
      },
      "outputs": [
        {
          "output_type": "execute_result",
          "data": {
            "text/plain": [
              "Index(['CustomerID', 'VehicleAttribute', 'VehicleAttributeDetails'], dtype='object')"
            ]
          },
          "metadata": {},
          "execution_count": 11
        }
      ],
      "source": [
        "vehicle.columns"
      ]
    },
    {
      "cell_type": "code",
      "execution_count": null,
      "metadata": {
        "id": "DXSsBKmgyVQc",
        "colab": {
          "base_uri": "https://localhost:8080/"
        },
        "outputId": "2310429a-5ece-45db-f7d1-ea04a2da8419"
      },
      "outputs": [
        {
          "output_type": "execute_result",
          "data": {
            "text/plain": [
              "(115344, 3)"
            ]
          },
          "metadata": {},
          "execution_count": 12
        }
      ],
      "source": [
        "vehicle.shape"
      ]
    },
    {
      "cell_type": "code",
      "execution_count": null,
      "metadata": {
        "id": "LYK9jkxHyNw6",
        "colab": {
          "base_uri": "https://localhost:8080/",
          "height": 204
        },
        "outputId": "ca69dbda-7774-4ddd-df16-c17d786c1835"
      },
      "outputs": [
        {
          "output_type": "execute_result",
          "data": {
            "text/plain": [
              "  CustomerID VehicleAttribute VehicleAttributeDetails\n",
              "0  Cust20179        VehicleID             Vehicle8898\n",
              "1  Cust21384     VehicleModel                  Malibu\n",
              "2  Cust33335      VehicleMake                  Toyota\n",
              "3  Cust27118     VehicleModel                    Neon\n",
              "4  Cust13038        VehicleID            Vehicle30212"
            ],
            "text/html": [
              "\n",
              "  <div id=\"df-4f41534f-e712-444d-b1d5-c23aaefd586f\">\n",
              "    <div class=\"colab-df-container\">\n",
              "      <div>\n",
              "<style scoped>\n",
              "    .dataframe tbody tr th:only-of-type {\n",
              "        vertical-align: middle;\n",
              "    }\n",
              "\n",
              "    .dataframe tbody tr th {\n",
              "        vertical-align: top;\n",
              "    }\n",
              "\n",
              "    .dataframe thead th {\n",
              "        text-align: right;\n",
              "    }\n",
              "</style>\n",
              "<table border=\"1\" class=\"dataframe\">\n",
              "  <thead>\n",
              "    <tr style=\"text-align: right;\">\n",
              "      <th></th>\n",
              "      <th>CustomerID</th>\n",
              "      <th>VehicleAttribute</th>\n",
              "      <th>VehicleAttributeDetails</th>\n",
              "    </tr>\n",
              "  </thead>\n",
              "  <tbody>\n",
              "    <tr>\n",
              "      <th>0</th>\n",
              "      <td>Cust20179</td>\n",
              "      <td>VehicleID</td>\n",
              "      <td>Vehicle8898</td>\n",
              "    </tr>\n",
              "    <tr>\n",
              "      <th>1</th>\n",
              "      <td>Cust21384</td>\n",
              "      <td>VehicleModel</td>\n",
              "      <td>Malibu</td>\n",
              "    </tr>\n",
              "    <tr>\n",
              "      <th>2</th>\n",
              "      <td>Cust33335</td>\n",
              "      <td>VehicleMake</td>\n",
              "      <td>Toyota</td>\n",
              "    </tr>\n",
              "    <tr>\n",
              "      <th>3</th>\n",
              "      <td>Cust27118</td>\n",
              "      <td>VehicleModel</td>\n",
              "      <td>Neon</td>\n",
              "    </tr>\n",
              "    <tr>\n",
              "      <th>4</th>\n",
              "      <td>Cust13038</td>\n",
              "      <td>VehicleID</td>\n",
              "      <td>Vehicle30212</td>\n",
              "    </tr>\n",
              "  </tbody>\n",
              "</table>\n",
              "</div>\n",
              "      <button class=\"colab-df-convert\" onclick=\"convertToInteractive('df-4f41534f-e712-444d-b1d5-c23aaefd586f')\"\n",
              "              title=\"Convert this dataframe to an interactive table.\"\n",
              "              style=\"display:none;\">\n",
              "        \n",
              "  <svg xmlns=\"http://www.w3.org/2000/svg\" height=\"24px\"viewBox=\"0 0 24 24\"\n",
              "       width=\"24px\">\n",
              "    <path d=\"M0 0h24v24H0V0z\" fill=\"none\"/>\n",
              "    <path d=\"M18.56 5.44l.94 2.06.94-2.06 2.06-.94-2.06-.94-.94-2.06-.94 2.06-2.06.94zm-11 1L8.5 8.5l.94-2.06 2.06-.94-2.06-.94L8.5 2.5l-.94 2.06-2.06.94zm10 10l.94 2.06.94-2.06 2.06-.94-2.06-.94-.94-2.06-.94 2.06-2.06.94z\"/><path d=\"M17.41 7.96l-1.37-1.37c-.4-.4-.92-.59-1.43-.59-.52 0-1.04.2-1.43.59L10.3 9.45l-7.72 7.72c-.78.78-.78 2.05 0 2.83L4 21.41c.39.39.9.59 1.41.59.51 0 1.02-.2 1.41-.59l7.78-7.78 2.81-2.81c.8-.78.8-2.07 0-2.86zM5.41 20L4 18.59l7.72-7.72 1.47 1.35L5.41 20z\"/>\n",
              "  </svg>\n",
              "      </button>\n",
              "      \n",
              "  <style>\n",
              "    .colab-df-container {\n",
              "      display:flex;\n",
              "      flex-wrap:wrap;\n",
              "      gap: 12px;\n",
              "    }\n",
              "\n",
              "    .colab-df-convert {\n",
              "      background-color: #E8F0FE;\n",
              "      border: none;\n",
              "      border-radius: 50%;\n",
              "      cursor: pointer;\n",
              "      display: none;\n",
              "      fill: #1967D2;\n",
              "      height: 32px;\n",
              "      padding: 0 0 0 0;\n",
              "      width: 32px;\n",
              "    }\n",
              "\n",
              "    .colab-df-convert:hover {\n",
              "      background-color: #E2EBFA;\n",
              "      box-shadow: 0px 1px 2px rgba(60, 64, 67, 0.3), 0px 1px 3px 1px rgba(60, 64, 67, 0.15);\n",
              "      fill: #174EA6;\n",
              "    }\n",
              "\n",
              "    [theme=dark] .colab-df-convert {\n",
              "      background-color: #3B4455;\n",
              "      fill: #D2E3FC;\n",
              "    }\n",
              "\n",
              "    [theme=dark] .colab-df-convert:hover {\n",
              "      background-color: #434B5C;\n",
              "      box-shadow: 0px 1px 3px 1px rgba(0, 0, 0, 0.15);\n",
              "      filter: drop-shadow(0px 1px 2px rgba(0, 0, 0, 0.3));\n",
              "      fill: #FFFFFF;\n",
              "    }\n",
              "  </style>\n",
              "\n",
              "      <script>\n",
              "        const buttonEl =\n",
              "          document.querySelector('#df-4f41534f-e712-444d-b1d5-c23aaefd586f button.colab-df-convert');\n",
              "        buttonEl.style.display =\n",
              "          google.colab.kernel.accessAllowed ? 'block' : 'none';\n",
              "\n",
              "        async function convertToInteractive(key) {\n",
              "          const element = document.querySelector('#df-4f41534f-e712-444d-b1d5-c23aaefd586f');\n",
              "          const dataTable =\n",
              "            await google.colab.kernel.invokeFunction('convertToInteractive',\n",
              "                                                     [key], {});\n",
              "          if (!dataTable) return;\n",
              "\n",
              "          const docLinkHtml = 'Like what you see? Visit the ' +\n",
              "            '<a target=\"_blank\" href=https://colab.research.google.com/notebooks/data_table.ipynb>data table notebook</a>'\n",
              "            + ' to learn more about interactive tables.';\n",
              "          element.innerHTML = '';\n",
              "          dataTable['output_type'] = 'display_data';\n",
              "          await google.colab.output.renderOutput(dataTable, element);\n",
              "          const docLink = document.createElement('div');\n",
              "          docLink.innerHTML = docLinkHtml;\n",
              "          element.appendChild(docLink);\n",
              "        }\n",
              "      </script>\n",
              "    </div>\n",
              "  </div>\n",
              "  "
            ]
          },
          "metadata": {},
          "execution_count": 13
        }
      ],
      "source": [
        "vehicle.head()"
      ]
    },
    {
      "cell_type": "code",
      "execution_count": null,
      "metadata": {
        "id": "ROU9pJwIylK4",
        "colab": {
          "base_uri": "https://localhost:8080/"
        },
        "outputId": "ae2a4876-0f69-4efb-a133-ffd3f070c962"
      },
      "outputs": [
        {
          "output_type": "execute_result",
          "data": {
            "text/plain": [
              "VehicleID       28836\n",
              "VehicleModel    28836\n",
              "VehicleMake     28836\n",
              "VehicleYOM      28836\n",
              "Name: VehicleAttribute, dtype: int64"
            ]
          },
          "metadata": {},
          "execution_count": 14
        }
      ],
      "source": [
        "vehicle['VehicleAttribute'].value_counts()"
      ]
    },
    {
      "cell_type": "code",
      "execution_count": null,
      "metadata": {
        "id": "epO1DvZly1DQ"
      },
      "outputs": [],
      "source": [
        "veh = vehicle.groupby('VehicleAttribute')"
      ]
    },
    {
      "cell_type": "code",
      "execution_count": null,
      "metadata": {
        "id": "NqB61C_Kzb8J",
        "colab": {
          "base_uri": "https://localhost:8080/"
        },
        "outputId": "e6b90359-cf13-478d-fb55-0c6616c64a66"
      },
      "outputs": [
        {
          "output_type": "stream",
          "name": "stdout",
          "text": [
            "VehicleID\n",
            "VehicleMake\n",
            "VehicleModel\n",
            "VehicleYOM\n"
          ]
        }
      ],
      "source": [
        "for VehicleAttribute, Vehicle in veh:\n",
        "  print(VehicleAttribute)"
      ]
    },
    {
      "cell_type": "code",
      "execution_count": null,
      "metadata": {
        "id": "ZKIEuHXDz8_c"
      },
      "outputs": [],
      "source": [
        "vehicleId = veh.get_group('VehicleID')\n",
        "vehicleMake = veh.get_group('VehicleMake')\n",
        "vehicleModel = veh.get_group('VehicleModel')\n",
        "vehicleYOM = veh.get_group('VehicleYOM')"
      ]
    },
    {
      "cell_type": "code",
      "execution_count": null,
      "metadata": {
        "id": "BSUrE5mj0-qb",
        "colab": {
          "base_uri": "https://localhost:8080/"
        },
        "outputId": "ac0e4b81-2e17-4b32-a860-773d4783166c"
      },
      "outputs": [
        {
          "output_type": "execute_result",
          "data": {
            "text/plain": [
              "((28836, 3), (28836, 3), (28836, 3), (28836, 3))"
            ]
          },
          "metadata": {},
          "execution_count": 18
        }
      ],
      "source": [
        "(vehicleId.shape), (vehicleModel.shape), (vehicleMake.shape), (vehicleYOM.shape)"
      ]
    },
    {
      "cell_type": "markdown",
      "metadata": {
        "id": "5T18YCKL2SOd"
      },
      "source": [
        "Renaming columns to avoid confusion"
      ]
    },
    {
      "cell_type": "code",
      "execution_count": null,
      "metadata": {
        "id": "SIrAs1BA1hWg",
        "colab": {
          "base_uri": "https://localhost:8080/"
        },
        "outputId": "8e5a5414-e9af-4bc4-c870-881242534ca9"
      },
      "outputs": [
        {
          "output_type": "stream",
          "name": "stderr",
          "text": [
            "/usr/local/lib/python3.7/dist-packages/pandas/core/frame.py:5047: SettingWithCopyWarning: \n",
            "A value is trying to be set on a copy of a slice from a DataFrame\n",
            "\n",
            "See the caveats in the documentation: https://pandas.pydata.org/pandas-docs/stable/user_guide/indexing.html#returning-a-view-versus-a-copy\n",
            "  errors=errors,\n"
          ]
        }
      ],
      "source": [
        "vehicleId.rename(columns = {'VehicleAttribute':'VehicleAttribute1', 'VehicleAttributeDetails':'VehicleAttributeDetails1'}, inplace = True)\n",
        "vehicleModel.rename(columns = {'VehicleAttribute':'VehicleAttribute2', 'VehicleAttributeDetails':'VehicleAttributeDetails2'}, inplace = True)\n",
        "vehicleMake.rename(columns = {'VehicleAttribute':'VehicleAttribute3', 'VehicleAttributeDetails':'VehicleAttributeDetails3'}, inplace = True)\n",
        "vehicleYOM.rename(columns = {'VehicleAttribute':'VehicleAttribute4', 'VehicleAttributeDetails':'VehicleAttributeDetails4'}, inplace = True)"
      ]
    },
    {
      "cell_type": "code",
      "execution_count": null,
      "metadata": {
        "id": "DqT6n_c62iPY",
        "colab": {
          "base_uri": "https://localhost:8080/"
        },
        "outputId": "05d2079e-96d3-4bb4-8c6c-9aeb4c1d00fe"
      },
      "outputs": [
        {
          "output_type": "execute_result",
          "data": {
            "text/plain": [
              "(Index(['CustomerID', 'VehicleAttribute1', 'VehicleAttributeDetails1'], dtype='object'),\n",
              " Index(['CustomerID', 'VehicleAttribute2', 'VehicleAttributeDetails2'], dtype='object'),\n",
              " Index(['CustomerID', 'VehicleAttribute3', 'VehicleAttributeDetails3'], dtype='object'),\n",
              " Index(['CustomerID', 'VehicleAttribute4', 'VehicleAttributeDetails4'], dtype='object'))"
            ]
          },
          "metadata": {},
          "execution_count": 20
        }
      ],
      "source": [
        "(vehicleId.columns), (vehicleModel.columns), (vehicleMake.columns), (vehicleYOM.columns)"
      ]
    },
    {
      "cell_type": "code",
      "execution_count": null,
      "metadata": {
        "id": "1keJLu_p3Z3Q",
        "colab": {
          "base_uri": "https://localhost:8080/"
        },
        "outputId": "628d1b2e-0f97-411f-c3e7-b9d76059137e"
      },
      "outputs": [
        {
          "output_type": "execute_result",
          "data": {
            "text/plain": [
              "Index(['CustomerID', 'ReportedFraud'], dtype='object')"
            ]
          },
          "metadata": {},
          "execution_count": 21
        }
      ],
      "source": [
        "data.columns"
      ]
    },
    {
      "cell_type": "code",
      "execution_count": null,
      "metadata": {
        "id": "p4cOD5rB3T3f",
        "colab": {
          "base_uri": "https://localhost:8080/"
        },
        "outputId": "44526bbf-e2e3-46ac-e79d-7947a35c586a"
      },
      "outputs": [
        {
          "output_type": "execute_result",
          "data": {
            "text/plain": [
              "(28836, 2)"
            ]
          },
          "metadata": {},
          "execution_count": 22
        }
      ],
      "source": [
        "data.shape"
      ]
    },
    {
      "cell_type": "markdown",
      "metadata": {
        "id": "4YRk9Vbo2v3F"
      },
      "source": [
        "Merging all the Dataframes into single Dataframes using CustomerID"
      ]
    },
    {
      "cell_type": "code",
      "execution_count": null,
      "metadata": {
        "id": "7kFsk9Cu2tJS"
      },
      "outputs": [],
      "source": [
        "df1 = pd.merge(claim, demographics, on = ['CustomerID'])\n",
        "df2 = pd.merge(df1, policy, on = ['CustomerID'])\n",
        "df3 = pd.merge(df2, vehicleId, on = ['CustomerID'])\n",
        "df4 = pd.merge(df3, vehicleModel, on = ['CustomerID'])\n",
        "df5 = pd.merge(df4, vehicleMake, on = ['CustomerID'])\n",
        "df6 = pd.merge(df5, vehicleYOM, on = ['CustomerID'])\n",
        "df = df6 = pd.merge(df6, data, on = ['CustomerID'])"
      ]
    },
    {
      "cell_type": "code",
      "execution_count": null,
      "metadata": {
        "id": "OnF5MEYU5Wj0",
        "colab": {
          "base_uri": "https://localhost:8080/"
        },
        "outputId": "990a3e40-9a4b-48f6-d1a8-bf707f4e939d"
      },
      "outputs": [
        {
          "output_type": "execute_result",
          "data": {
            "text/plain": [
              "(28836, 46)"
            ]
          },
          "metadata": {},
          "execution_count": 24
        }
      ],
      "source": [
        "df.shape"
      ]
    },
    {
      "cell_type": "code",
      "execution_count": null,
      "metadata": {
        "id": "etPOyf2a6PB5",
        "colab": {
          "base_uri": "https://localhost:8080/"
        },
        "outputId": "b213bc7b-84be-460d-fae5-579abc27714e"
      },
      "outputs": [
        {
          "output_type": "stream",
          "name": "stdout",
          "text": [
            "<class 'pandas.core.frame.DataFrame'>\n",
            "Int64Index: 28836 entries, 0 to 28835\n",
            "Data columns (total 46 columns):\n",
            " #   Column                      Non-Null Count  Dtype  \n",
            "---  ------                      --------------  -----  \n",
            " 0   CustomerID                  28836 non-null  object \n",
            " 1   DateOfIncident              28836 non-null  object \n",
            " 2   TypeOfIncident              28836 non-null  object \n",
            " 3   TypeOfCollission            23674 non-null  object \n",
            " 4   SeverityOfIncident          28836 non-null  object \n",
            " 5   AuthoritiesContacted        28836 non-null  object \n",
            " 6   IncidentState               28836 non-null  object \n",
            " 7   IncidentCity                28836 non-null  object \n",
            " 8   IncidentAddress             28836 non-null  object \n",
            " 9   IncidentTime                28836 non-null  int64  \n",
            " 10  NumberOfVehicles            28836 non-null  int64  \n",
            " 11  PropertyDamage              18377 non-null  object \n",
            " 12  BodilyInjuries              28836 non-null  int64  \n",
            " 13  Witnesses                   28836 non-null  object \n",
            " 14  PoliceReport                19031 non-null  object \n",
            " 15  AmountOfTotalClaim          28836 non-null  object \n",
            " 16  AmountOfInjuryClaim         28836 non-null  int64  \n",
            " 17  AmountOfPropertyClaim       28836 non-null  int64  \n",
            " 18  AmountOfVehicleDamage       28836 non-null  int64  \n",
            " 19  InsuredAge                  28836 non-null  int64  \n",
            " 20  InsuredZipCode              28836 non-null  int64  \n",
            " 21  InsuredGender               28806 non-null  object \n",
            " 22  InsuredEducationLevel       28836 non-null  object \n",
            " 23  InsuredOccupation           28836 non-null  object \n",
            " 24  InsuredHobbies              28836 non-null  object \n",
            " 25  CapitalGains                28836 non-null  int64  \n",
            " 26  CapitalLoss                 28836 non-null  int64  \n",
            " 27  Country                     28834 non-null  object \n",
            " 28  InsurancePolicyNumber       28836 non-null  int64  \n",
            " 29  CustomerLoyaltyPeriod       28836 non-null  int64  \n",
            " 30  DateOfPolicyCoverage        28836 non-null  object \n",
            " 31  InsurancePolicyState        28836 non-null  object \n",
            " 32  Policy_CombinedSingleLimit  28836 non-null  object \n",
            " 33  Policy_Deductible           28836 non-null  int64  \n",
            " 34  PolicyAnnualPremium         28836 non-null  float64\n",
            " 35  UmbrellaLimit               28836 non-null  int64  \n",
            " 36  InsuredRelationship         28836 non-null  object \n",
            " 37  VehicleAttribute1           28836 non-null  object \n",
            " 38  VehicleAttributeDetails1    28836 non-null  object \n",
            " 39  VehicleAttribute2           28836 non-null  object \n",
            " 40  VehicleAttributeDetails2    28836 non-null  object \n",
            " 41  VehicleAttribute3           28836 non-null  object \n",
            " 42  VehicleAttributeDetails3    28836 non-null  object \n",
            " 43  VehicleAttribute4           28836 non-null  object \n",
            " 44  VehicleAttributeDetails4    28836 non-null  object \n",
            " 45  ReportedFraud               28836 non-null  object \n",
            "dtypes: float64(1), int64(14), object(31)\n",
            "memory usage: 10.3+ MB\n"
          ]
        }
      ],
      "source": [
        "df.info()"
      ]
    },
    {
      "cell_type": "code",
      "execution_count": null,
      "metadata": {
        "id": "QbPBi2ew5lhh",
        "colab": {
          "base_uri": "https://localhost:8080/",
          "height": 1000
        },
        "outputId": "b56cac82-4888-4623-b501-3a55046ea4a8"
      },
      "outputs": [
        {
          "output_type": "execute_result",
          "data": {
            "text/plain": [
              "                                                  0                        1  \\\n",
              "CustomerID                                Cust10000                Cust10001   \n",
              "DateOfIncident                           2015-02-03               2015-02-02   \n",
              "TypeOfIncident              Multi-vehicle Collision  Multi-vehicle Collision   \n",
              "TypeOfCollission                     Side Collision           Side Collision   \n",
              "SeverityOfIncident                       Total Loss               Total Loss   \n",
              "AuthoritiesContacted                         Police                   Police   \n",
              "IncidentState                                State7                   State7   \n",
              "IncidentCity                                  City1                    City5   \n",
              "IncidentAddress                       Location 1311            Location 1311   \n",
              "IncidentTime                                     17                       10   \n",
              "NumberOfVehicles                                  3                        3   \n",
              "PropertyDamage                                  NaN                      YES   \n",
              "BodilyInjuries                                    1                        2   \n",
              "Witnesses                                         0                        1   \n",
              "PoliceReport                                    NaN                      YES   \n",
              "AmountOfTotalClaim                            65501                    61382   \n",
              "AmountOfInjuryClaim                           13417                    15560   \n",
              "AmountOfPropertyClaim                          6071                     5919   \n",
              "AmountOfVehicleDamage                         46013                    39903   \n",
              "InsuredAge                                       35                       36   \n",
              "InsuredZipCode                               454776                   454776   \n",
              "InsuredGender                                  MALE                     MALE   \n",
              "InsuredEducationLevel                            JD                       JD   \n",
              "InsuredOccupation                      armed-forces             tech-support   \n",
              "InsuredHobbies                               movies                cross-fit   \n",
              "CapitalGains                                  56700                    70600   \n",
              "CapitalLoss                                  -48500                   -48500   \n",
              "Country                                       India                    India   \n",
              "InsurancePolicyNumber                        119121                   119122   \n",
              "CustomerLoyaltyPeriod                            49                      114   \n",
              "DateOfPolicyCoverage                     1998-10-25               2000-11-15   \n",
              "InsurancePolicyState                         State1                   State1   \n",
              "Policy_CombinedSingleLimit                  100/300                  100/300   \n",
              "Policy_Deductible                              1000                     1000   \n",
              "PolicyAnnualPremium                         1632.73                  1255.19   \n",
              "UmbrellaLimit                                     0                        0   \n",
              "InsuredRelationship                   not-in-family            not-in-family   \n",
              "VehicleAttribute1                         VehicleID                VehicleID   \n",
              "VehicleAttributeDetails1               Vehicle26917             Vehicle15893   \n",
              "VehicleAttribute2                      VehicleModel             VehicleModel   \n",
              "VehicleAttributeDetails2                         A5                       A5   \n",
              "VehicleAttribute3                       VehicleMake              VehicleMake   \n",
              "VehicleAttributeDetails3                       Audi                     Audi   \n",
              "VehicleAttribute4                        VehicleYOM               VehicleYOM   \n",
              "VehicleAttributeDetails4                       2008                     2006   \n",
              "ReportedFraud                                     N                        N   \n",
              "\n",
              "                                                   2  \\\n",
              "CustomerID                                 Cust10002   \n",
              "DateOfIncident                            2015-01-15   \n",
              "TypeOfIncident              Single Vehicle Collision   \n",
              "TypeOfCollission                      Side Collision   \n",
              "SeverityOfIncident                      Minor Damage   \n",
              "AuthoritiesContacted                           Other   \n",
              "IncidentState                                 State8   \n",
              "IncidentCity                                   City6   \n",
              "IncidentAddress                        Location 2081   \n",
              "IncidentTime                                      22   \n",
              "NumberOfVehicles                                   1   \n",
              "PropertyDamage                                   YES   \n",
              "BodilyInjuries                                     2   \n",
              "Witnesses                                          3   \n",
              "PoliceReport                                      NO   \n",
              "AmountOfTotalClaim                             66755   \n",
              "AmountOfInjuryClaim                            11630   \n",
              "AmountOfPropertyClaim                          11630   \n",
              "AmountOfVehicleDamage                          43495   \n",
              "InsuredAge                                        33   \n",
              "InsuredZipCode                                603260   \n",
              "InsuredGender                                   MALE   \n",
              "InsuredEducationLevel                             JD   \n",
              "InsuredOccupation                       armed-forces   \n",
              "InsuredHobbies                                  polo   \n",
              "CapitalGains                                   66400   \n",
              "CapitalLoss                                   -63700   \n",
              "Country                                        India   \n",
              "InsurancePolicyNumber                         119123   \n",
              "CustomerLoyaltyPeriod                            167   \n",
              "DateOfPolicyCoverage                      2001-02-12   \n",
              "InsurancePolicyState                          State3   \n",
              "Policy_CombinedSingleLimit                  500/1000   \n",
              "Policy_Deductible                                617   \n",
              "PolicyAnnualPremium                          1373.38   \n",
              "UmbrellaLimit                                      0   \n",
              "InsuredRelationship                             wife   \n",
              "VehicleAttribute1                          VehicleID   \n",
              "VehicleAttributeDetails1                 Vehicle5152   \n",
              "VehicleAttribute2                       VehicleModel   \n",
              "VehicleAttributeDetails2                       Jetta   \n",
              "VehicleAttribute3                        VehicleMake   \n",
              "VehicleAttributeDetails3                  Volkswagen   \n",
              "VehicleAttribute4                         VehicleYOM   \n",
              "VehicleAttributeDetails4                        1999   \n",
              "ReportedFraud                                      N   \n",
              "\n",
              "                                                   3                         4  \n",
              "CustomerID                                 Cust10003                 Cust10004  \n",
              "DateOfIncident                            2015-01-19                2015-01-09  \n",
              "TypeOfIncident              Single Vehicle Collision  Single Vehicle Collision  \n",
              "TypeOfCollission                      Side Collision            Rear Collision  \n",
              "SeverityOfIncident                      Minor Damage              Minor Damage  \n",
              "AuthoritiesContacted                           Other                      Fire  \n",
              "IncidentState                                 State9                    State8  \n",
              "IncidentCity                                   City6                     City6  \n",
              "IncidentAddress                        Location 2081             Location 1695  \n",
              "IncidentTime                                      22                        10  \n",
              "NumberOfVehicles                                   1                         1  \n",
              "PropertyDamage                                   YES                        NO  \n",
              "BodilyInjuries                                     2                         2  \n",
              "Witnesses                                          3                         1  \n",
              "PoliceReport                                      NO                       YES  \n",
              "AmountOfTotalClaim                             66243                     53544  \n",
              "AmountOfInjuryClaim                            12003                      8829  \n",
              "AmountOfPropertyClaim                          12003                      7234  \n",
              "AmountOfVehicleDamage                          42237                     37481  \n",
              "InsuredAge                                        36                        29  \n",
              "InsuredZipCode                                474848                    457942  \n",
              "InsuredGender                                   MALE                    FEMALE  \n",
              "InsuredEducationLevel                             JD               High School  \n",
              "InsuredOccupation                       armed-forces           exec-managerial  \n",
              "InsuredHobbies                                  polo                   dancing  \n",
              "CapitalGains                                   47900                         0  \n",
              "CapitalLoss                                   -73400                    -41500  \n",
              "Country                                        India                     India  \n",
              "InsurancePolicyNumber                         119124                    119125  \n",
              "CustomerLoyaltyPeriod                            190                       115  \n",
              "DateOfPolicyCoverage                      2005-04-11                1996-10-25  \n",
              "InsurancePolicyState                          State2                    State2  \n",
              "Policy_CombinedSingleLimit                  500/1000                   100/300  \n",
              "Policy_Deductible                                722                       500  \n",
              "PolicyAnnualPremium                           1337.6                   1353.73  \n",
              "UmbrellaLimit                                      0                   4279863  \n",
              "InsuredRelationship                        own-child                 unmarried  \n",
              "VehicleAttribute1                          VehicleID                 VehicleID  \n",
              "VehicleAttributeDetails1                Vehicle37363              Vehicle28633  \n",
              "VehicleAttribute2                       VehicleModel              VehicleModel  \n",
              "VehicleAttributeDetails2                       Jetta                       CRV  \n",
              "VehicleAttribute3                        VehicleMake               VehicleMake  \n",
              "VehicleAttributeDetails3                  Volkswagen                    Toyota  \n",
              "VehicleAttribute4                         VehicleYOM                VehicleYOM  \n",
              "VehicleAttributeDetails4                        2003                      2010  \n",
              "ReportedFraud                                      N                         N  "
            ],
            "text/html": [
              "\n",
              "  <div id=\"df-28fcc724-0329-4b04-a4fd-589d4b63c8d3\">\n",
              "    <div class=\"colab-df-container\">\n",
              "      <div>\n",
              "<style scoped>\n",
              "    .dataframe tbody tr th:only-of-type {\n",
              "        vertical-align: middle;\n",
              "    }\n",
              "\n",
              "    .dataframe tbody tr th {\n",
              "        vertical-align: top;\n",
              "    }\n",
              "\n",
              "    .dataframe thead th {\n",
              "        text-align: right;\n",
              "    }\n",
              "</style>\n",
              "<table border=\"1\" class=\"dataframe\">\n",
              "  <thead>\n",
              "    <tr style=\"text-align: right;\">\n",
              "      <th></th>\n",
              "      <th>0</th>\n",
              "      <th>1</th>\n",
              "      <th>2</th>\n",
              "      <th>3</th>\n",
              "      <th>4</th>\n",
              "    </tr>\n",
              "  </thead>\n",
              "  <tbody>\n",
              "    <tr>\n",
              "      <th>CustomerID</th>\n",
              "      <td>Cust10000</td>\n",
              "      <td>Cust10001</td>\n",
              "      <td>Cust10002</td>\n",
              "      <td>Cust10003</td>\n",
              "      <td>Cust10004</td>\n",
              "    </tr>\n",
              "    <tr>\n",
              "      <th>DateOfIncident</th>\n",
              "      <td>2015-02-03</td>\n",
              "      <td>2015-02-02</td>\n",
              "      <td>2015-01-15</td>\n",
              "      <td>2015-01-19</td>\n",
              "      <td>2015-01-09</td>\n",
              "    </tr>\n",
              "    <tr>\n",
              "      <th>TypeOfIncident</th>\n",
              "      <td>Multi-vehicle Collision</td>\n",
              "      <td>Multi-vehicle Collision</td>\n",
              "      <td>Single Vehicle Collision</td>\n",
              "      <td>Single Vehicle Collision</td>\n",
              "      <td>Single Vehicle Collision</td>\n",
              "    </tr>\n",
              "    <tr>\n",
              "      <th>TypeOfCollission</th>\n",
              "      <td>Side Collision</td>\n",
              "      <td>Side Collision</td>\n",
              "      <td>Side Collision</td>\n",
              "      <td>Side Collision</td>\n",
              "      <td>Rear Collision</td>\n",
              "    </tr>\n",
              "    <tr>\n",
              "      <th>SeverityOfIncident</th>\n",
              "      <td>Total Loss</td>\n",
              "      <td>Total Loss</td>\n",
              "      <td>Minor Damage</td>\n",
              "      <td>Minor Damage</td>\n",
              "      <td>Minor Damage</td>\n",
              "    </tr>\n",
              "    <tr>\n",
              "      <th>AuthoritiesContacted</th>\n",
              "      <td>Police</td>\n",
              "      <td>Police</td>\n",
              "      <td>Other</td>\n",
              "      <td>Other</td>\n",
              "      <td>Fire</td>\n",
              "    </tr>\n",
              "    <tr>\n",
              "      <th>IncidentState</th>\n",
              "      <td>State7</td>\n",
              "      <td>State7</td>\n",
              "      <td>State8</td>\n",
              "      <td>State9</td>\n",
              "      <td>State8</td>\n",
              "    </tr>\n",
              "    <tr>\n",
              "      <th>IncidentCity</th>\n",
              "      <td>City1</td>\n",
              "      <td>City5</td>\n",
              "      <td>City6</td>\n",
              "      <td>City6</td>\n",
              "      <td>City6</td>\n",
              "    </tr>\n",
              "    <tr>\n",
              "      <th>IncidentAddress</th>\n",
              "      <td>Location 1311</td>\n",
              "      <td>Location 1311</td>\n",
              "      <td>Location 2081</td>\n",
              "      <td>Location 2081</td>\n",
              "      <td>Location 1695</td>\n",
              "    </tr>\n",
              "    <tr>\n",
              "      <th>IncidentTime</th>\n",
              "      <td>17</td>\n",
              "      <td>10</td>\n",
              "      <td>22</td>\n",
              "      <td>22</td>\n",
              "      <td>10</td>\n",
              "    </tr>\n",
              "    <tr>\n",
              "      <th>NumberOfVehicles</th>\n",
              "      <td>3</td>\n",
              "      <td>3</td>\n",
              "      <td>1</td>\n",
              "      <td>1</td>\n",
              "      <td>1</td>\n",
              "    </tr>\n",
              "    <tr>\n",
              "      <th>PropertyDamage</th>\n",
              "      <td>NaN</td>\n",
              "      <td>YES</td>\n",
              "      <td>YES</td>\n",
              "      <td>YES</td>\n",
              "      <td>NO</td>\n",
              "    </tr>\n",
              "    <tr>\n",
              "      <th>BodilyInjuries</th>\n",
              "      <td>1</td>\n",
              "      <td>2</td>\n",
              "      <td>2</td>\n",
              "      <td>2</td>\n",
              "      <td>2</td>\n",
              "    </tr>\n",
              "    <tr>\n",
              "      <th>Witnesses</th>\n",
              "      <td>0</td>\n",
              "      <td>1</td>\n",
              "      <td>3</td>\n",
              "      <td>3</td>\n",
              "      <td>1</td>\n",
              "    </tr>\n",
              "    <tr>\n",
              "      <th>PoliceReport</th>\n",
              "      <td>NaN</td>\n",
              "      <td>YES</td>\n",
              "      <td>NO</td>\n",
              "      <td>NO</td>\n",
              "      <td>YES</td>\n",
              "    </tr>\n",
              "    <tr>\n",
              "      <th>AmountOfTotalClaim</th>\n",
              "      <td>65501</td>\n",
              "      <td>61382</td>\n",
              "      <td>66755</td>\n",
              "      <td>66243</td>\n",
              "      <td>53544</td>\n",
              "    </tr>\n",
              "    <tr>\n",
              "      <th>AmountOfInjuryClaim</th>\n",
              "      <td>13417</td>\n",
              "      <td>15560</td>\n",
              "      <td>11630</td>\n",
              "      <td>12003</td>\n",
              "      <td>8829</td>\n",
              "    </tr>\n",
              "    <tr>\n",
              "      <th>AmountOfPropertyClaim</th>\n",
              "      <td>6071</td>\n",
              "      <td>5919</td>\n",
              "      <td>11630</td>\n",
              "      <td>12003</td>\n",
              "      <td>7234</td>\n",
              "    </tr>\n",
              "    <tr>\n",
              "      <th>AmountOfVehicleDamage</th>\n",
              "      <td>46013</td>\n",
              "      <td>39903</td>\n",
              "      <td>43495</td>\n",
              "      <td>42237</td>\n",
              "      <td>37481</td>\n",
              "    </tr>\n",
              "    <tr>\n",
              "      <th>InsuredAge</th>\n",
              "      <td>35</td>\n",
              "      <td>36</td>\n",
              "      <td>33</td>\n",
              "      <td>36</td>\n",
              "      <td>29</td>\n",
              "    </tr>\n",
              "    <tr>\n",
              "      <th>InsuredZipCode</th>\n",
              "      <td>454776</td>\n",
              "      <td>454776</td>\n",
              "      <td>603260</td>\n",
              "      <td>474848</td>\n",
              "      <td>457942</td>\n",
              "    </tr>\n",
              "    <tr>\n",
              "      <th>InsuredGender</th>\n",
              "      <td>MALE</td>\n",
              "      <td>MALE</td>\n",
              "      <td>MALE</td>\n",
              "      <td>MALE</td>\n",
              "      <td>FEMALE</td>\n",
              "    </tr>\n",
              "    <tr>\n",
              "      <th>InsuredEducationLevel</th>\n",
              "      <td>JD</td>\n",
              "      <td>JD</td>\n",
              "      <td>JD</td>\n",
              "      <td>JD</td>\n",
              "      <td>High School</td>\n",
              "    </tr>\n",
              "    <tr>\n",
              "      <th>InsuredOccupation</th>\n",
              "      <td>armed-forces</td>\n",
              "      <td>tech-support</td>\n",
              "      <td>armed-forces</td>\n",
              "      <td>armed-forces</td>\n",
              "      <td>exec-managerial</td>\n",
              "    </tr>\n",
              "    <tr>\n",
              "      <th>InsuredHobbies</th>\n",
              "      <td>movies</td>\n",
              "      <td>cross-fit</td>\n",
              "      <td>polo</td>\n",
              "      <td>polo</td>\n",
              "      <td>dancing</td>\n",
              "    </tr>\n",
              "    <tr>\n",
              "      <th>CapitalGains</th>\n",
              "      <td>56700</td>\n",
              "      <td>70600</td>\n",
              "      <td>66400</td>\n",
              "      <td>47900</td>\n",
              "      <td>0</td>\n",
              "    </tr>\n",
              "    <tr>\n",
              "      <th>CapitalLoss</th>\n",
              "      <td>-48500</td>\n",
              "      <td>-48500</td>\n",
              "      <td>-63700</td>\n",
              "      <td>-73400</td>\n",
              "      <td>-41500</td>\n",
              "    </tr>\n",
              "    <tr>\n",
              "      <th>Country</th>\n",
              "      <td>India</td>\n",
              "      <td>India</td>\n",
              "      <td>India</td>\n",
              "      <td>India</td>\n",
              "      <td>India</td>\n",
              "    </tr>\n",
              "    <tr>\n",
              "      <th>InsurancePolicyNumber</th>\n",
              "      <td>119121</td>\n",
              "      <td>119122</td>\n",
              "      <td>119123</td>\n",
              "      <td>119124</td>\n",
              "      <td>119125</td>\n",
              "    </tr>\n",
              "    <tr>\n",
              "      <th>CustomerLoyaltyPeriod</th>\n",
              "      <td>49</td>\n",
              "      <td>114</td>\n",
              "      <td>167</td>\n",
              "      <td>190</td>\n",
              "      <td>115</td>\n",
              "    </tr>\n",
              "    <tr>\n",
              "      <th>DateOfPolicyCoverage</th>\n",
              "      <td>1998-10-25</td>\n",
              "      <td>2000-11-15</td>\n",
              "      <td>2001-02-12</td>\n",
              "      <td>2005-04-11</td>\n",
              "      <td>1996-10-25</td>\n",
              "    </tr>\n",
              "    <tr>\n",
              "      <th>InsurancePolicyState</th>\n",
              "      <td>State1</td>\n",
              "      <td>State1</td>\n",
              "      <td>State3</td>\n",
              "      <td>State2</td>\n",
              "      <td>State2</td>\n",
              "    </tr>\n",
              "    <tr>\n",
              "      <th>Policy_CombinedSingleLimit</th>\n",
              "      <td>100/300</td>\n",
              "      <td>100/300</td>\n",
              "      <td>500/1000</td>\n",
              "      <td>500/1000</td>\n",
              "      <td>100/300</td>\n",
              "    </tr>\n",
              "    <tr>\n",
              "      <th>Policy_Deductible</th>\n",
              "      <td>1000</td>\n",
              "      <td>1000</td>\n",
              "      <td>617</td>\n",
              "      <td>722</td>\n",
              "      <td>500</td>\n",
              "    </tr>\n",
              "    <tr>\n",
              "      <th>PolicyAnnualPremium</th>\n",
              "      <td>1632.73</td>\n",
              "      <td>1255.19</td>\n",
              "      <td>1373.38</td>\n",
              "      <td>1337.6</td>\n",
              "      <td>1353.73</td>\n",
              "    </tr>\n",
              "    <tr>\n",
              "      <th>UmbrellaLimit</th>\n",
              "      <td>0</td>\n",
              "      <td>0</td>\n",
              "      <td>0</td>\n",
              "      <td>0</td>\n",
              "      <td>4279863</td>\n",
              "    </tr>\n",
              "    <tr>\n",
              "      <th>InsuredRelationship</th>\n",
              "      <td>not-in-family</td>\n",
              "      <td>not-in-family</td>\n",
              "      <td>wife</td>\n",
              "      <td>own-child</td>\n",
              "      <td>unmarried</td>\n",
              "    </tr>\n",
              "    <tr>\n",
              "      <th>VehicleAttribute1</th>\n",
              "      <td>VehicleID</td>\n",
              "      <td>VehicleID</td>\n",
              "      <td>VehicleID</td>\n",
              "      <td>VehicleID</td>\n",
              "      <td>VehicleID</td>\n",
              "    </tr>\n",
              "    <tr>\n",
              "      <th>VehicleAttributeDetails1</th>\n",
              "      <td>Vehicle26917</td>\n",
              "      <td>Vehicle15893</td>\n",
              "      <td>Vehicle5152</td>\n",
              "      <td>Vehicle37363</td>\n",
              "      <td>Vehicle28633</td>\n",
              "    </tr>\n",
              "    <tr>\n",
              "      <th>VehicleAttribute2</th>\n",
              "      <td>VehicleModel</td>\n",
              "      <td>VehicleModel</td>\n",
              "      <td>VehicleModel</td>\n",
              "      <td>VehicleModel</td>\n",
              "      <td>VehicleModel</td>\n",
              "    </tr>\n",
              "    <tr>\n",
              "      <th>VehicleAttributeDetails2</th>\n",
              "      <td>A5</td>\n",
              "      <td>A5</td>\n",
              "      <td>Jetta</td>\n",
              "      <td>Jetta</td>\n",
              "      <td>CRV</td>\n",
              "    </tr>\n",
              "    <tr>\n",
              "      <th>VehicleAttribute3</th>\n",
              "      <td>VehicleMake</td>\n",
              "      <td>VehicleMake</td>\n",
              "      <td>VehicleMake</td>\n",
              "      <td>VehicleMake</td>\n",
              "      <td>VehicleMake</td>\n",
              "    </tr>\n",
              "    <tr>\n",
              "      <th>VehicleAttributeDetails3</th>\n",
              "      <td>Audi</td>\n",
              "      <td>Audi</td>\n",
              "      <td>Volkswagen</td>\n",
              "      <td>Volkswagen</td>\n",
              "      <td>Toyota</td>\n",
              "    </tr>\n",
              "    <tr>\n",
              "      <th>VehicleAttribute4</th>\n",
              "      <td>VehicleYOM</td>\n",
              "      <td>VehicleYOM</td>\n",
              "      <td>VehicleYOM</td>\n",
              "      <td>VehicleYOM</td>\n",
              "      <td>VehicleYOM</td>\n",
              "    </tr>\n",
              "    <tr>\n",
              "      <th>VehicleAttributeDetails4</th>\n",
              "      <td>2008</td>\n",
              "      <td>2006</td>\n",
              "      <td>1999</td>\n",
              "      <td>2003</td>\n",
              "      <td>2010</td>\n",
              "    </tr>\n",
              "    <tr>\n",
              "      <th>ReportedFraud</th>\n",
              "      <td>N</td>\n",
              "      <td>N</td>\n",
              "      <td>N</td>\n",
              "      <td>N</td>\n",
              "      <td>N</td>\n",
              "    </tr>\n",
              "  </tbody>\n",
              "</table>\n",
              "</div>\n",
              "      <button class=\"colab-df-convert\" onclick=\"convertToInteractive('df-28fcc724-0329-4b04-a4fd-589d4b63c8d3')\"\n",
              "              title=\"Convert this dataframe to an interactive table.\"\n",
              "              style=\"display:none;\">\n",
              "        \n",
              "  <svg xmlns=\"http://www.w3.org/2000/svg\" height=\"24px\"viewBox=\"0 0 24 24\"\n",
              "       width=\"24px\">\n",
              "    <path d=\"M0 0h24v24H0V0z\" fill=\"none\"/>\n",
              "    <path d=\"M18.56 5.44l.94 2.06.94-2.06 2.06-.94-2.06-.94-.94-2.06-.94 2.06-2.06.94zm-11 1L8.5 8.5l.94-2.06 2.06-.94-2.06-.94L8.5 2.5l-.94 2.06-2.06.94zm10 10l.94 2.06.94-2.06 2.06-.94-2.06-.94-.94-2.06-.94 2.06-2.06.94z\"/><path d=\"M17.41 7.96l-1.37-1.37c-.4-.4-.92-.59-1.43-.59-.52 0-1.04.2-1.43.59L10.3 9.45l-7.72 7.72c-.78.78-.78 2.05 0 2.83L4 21.41c.39.39.9.59 1.41.59.51 0 1.02-.2 1.41-.59l7.78-7.78 2.81-2.81c.8-.78.8-2.07 0-2.86zM5.41 20L4 18.59l7.72-7.72 1.47 1.35L5.41 20z\"/>\n",
              "  </svg>\n",
              "      </button>\n",
              "      \n",
              "  <style>\n",
              "    .colab-df-container {\n",
              "      display:flex;\n",
              "      flex-wrap:wrap;\n",
              "      gap: 12px;\n",
              "    }\n",
              "\n",
              "    .colab-df-convert {\n",
              "      background-color: #E8F0FE;\n",
              "      border: none;\n",
              "      border-radius: 50%;\n",
              "      cursor: pointer;\n",
              "      display: none;\n",
              "      fill: #1967D2;\n",
              "      height: 32px;\n",
              "      padding: 0 0 0 0;\n",
              "      width: 32px;\n",
              "    }\n",
              "\n",
              "    .colab-df-convert:hover {\n",
              "      background-color: #E2EBFA;\n",
              "      box-shadow: 0px 1px 2px rgba(60, 64, 67, 0.3), 0px 1px 3px 1px rgba(60, 64, 67, 0.15);\n",
              "      fill: #174EA6;\n",
              "    }\n",
              "\n",
              "    [theme=dark] .colab-df-convert {\n",
              "      background-color: #3B4455;\n",
              "      fill: #D2E3FC;\n",
              "    }\n",
              "\n",
              "    [theme=dark] .colab-df-convert:hover {\n",
              "      background-color: #434B5C;\n",
              "      box-shadow: 0px 1px 3px 1px rgba(0, 0, 0, 0.15);\n",
              "      filter: drop-shadow(0px 1px 2px rgba(0, 0, 0, 0.3));\n",
              "      fill: #FFFFFF;\n",
              "    }\n",
              "  </style>\n",
              "\n",
              "      <script>\n",
              "        const buttonEl =\n",
              "          document.querySelector('#df-28fcc724-0329-4b04-a4fd-589d4b63c8d3 button.colab-df-convert');\n",
              "        buttonEl.style.display =\n",
              "          google.colab.kernel.accessAllowed ? 'block' : 'none';\n",
              "\n",
              "        async function convertToInteractive(key) {\n",
              "          const element = document.querySelector('#df-28fcc724-0329-4b04-a4fd-589d4b63c8d3');\n",
              "          const dataTable =\n",
              "            await google.colab.kernel.invokeFunction('convertToInteractive',\n",
              "                                                     [key], {});\n",
              "          if (!dataTable) return;\n",
              "\n",
              "          const docLinkHtml = 'Like what you see? Visit the ' +\n",
              "            '<a target=\"_blank\" href=https://colab.research.google.com/notebooks/data_table.ipynb>data table notebook</a>'\n",
              "            + ' to learn more about interactive tables.';\n",
              "          element.innerHTML = '';\n",
              "          dataTable['output_type'] = 'display_data';\n",
              "          await google.colab.output.renderOutput(dataTable, element);\n",
              "          const docLink = document.createElement('div');\n",
              "          docLink.innerHTML = docLinkHtml;\n",
              "          element.appendChild(docLink);\n",
              "        }\n",
              "      </script>\n",
              "    </div>\n",
              "  </div>\n",
              "  "
            ]
          },
          "metadata": {},
          "execution_count": 26
        }
      ],
      "source": [
        "df.head().T"
      ]
    },
    {
      "cell_type": "code",
      "execution_count": null,
      "metadata": {
        "id": "bX1s-k9E5Zez",
        "colab": {
          "base_uri": "https://localhost:8080/",
          "height": 578
        },
        "outputId": "e45ebba4-85d1-4b72-9346-fadb5f4a9527"
      },
      "outputs": [
        {
          "output_type": "execute_result",
          "data": {
            "text/plain": [
              "                         count           mean           std        min  \\\n",
              "IncidentTime           28836.0      11.746047  6.170069e+00       -5.0   \n",
              "NumberOfVehicles       28836.0       1.823207  9.800987e-01        1.0   \n",
              "BodilyInjuries         28836.0       0.985782  7.847641e-01        0.0   \n",
              "AmountOfInjuryClaim    28836.0    7337.118428  4.427639e+03        0.0   \n",
              "AmountOfPropertyClaim  28836.0    7283.870197  4.375843e+03        0.0   \n",
              "AmountOfVehicleDamage  28836.0   37687.129387  1.797705e+04      109.0   \n",
              "InsuredAge             28836.0      38.815370  7.996377e+00       19.0   \n",
              "InsuredZipCode         28836.0  502436.579068  7.225087e+04   430104.0   \n",
              "CapitalGains           28836.0   23066.569566  2.763781e+04        0.0   \n",
              "CapitalLoss            28836.0  -24940.612429  2.791321e+04  -111100.0   \n",
              "InsurancePolicyNumber  28836.0  129312.517097  1.111406e+04   110122.0   \n",
              "CustomerLoyaltyPeriod  28836.0     203.067867  9.993295e+01        1.0   \n",
              "Policy_Deductible      28836.0    1114.282529  5.466328e+02      500.0   \n",
              "PolicyAnnualPremium    28836.0    1255.528382  2.230139e+02       -1.0   \n",
              "UmbrellaLimit          28836.0  983668.034436  1.969282e+06 -1000000.0   \n",
              "\n",
              "                               25%         50%         75%          max  \n",
              "IncidentTime                6.0000      12.000      17.000        23.00  \n",
              "NumberOfVehicles            1.0000       1.000       3.000         4.00  \n",
              "BodilyInjuries              0.0000       1.000       2.000         2.00  \n",
              "AmountOfInjuryClaim      4743.7500    7147.000   10571.250     21450.00  \n",
              "AmountOfPropertyClaim    4862.0000    7051.000   10327.000     23670.00  \n",
              "AmountOfVehicleDamage   32193.2500   42457.500   49535.750     79560.00  \n",
              "InsuredAge                 33.0000      38.000      44.000        64.00  \n",
              "InsuredZipCode         448603.0000  466691.000  603848.000    620962.00  \n",
              "CapitalGains                0.0000       0.000   49000.000    100500.00  \n",
              "CapitalLoss            -50000.0000       0.000       0.000         0.00  \n",
              "InsurancePolicyNumber  119698.7500  129278.500  138933.250    148619.00  \n",
              "CustomerLoyaltyPeriod     126.0000     199.000     267.000       479.00  \n",
              "Policy_Deductible         622.0000    1000.000    1627.000      2000.00  \n",
              "PolicyAnnualPremium      1122.0075    1265.205    1396.605      2047.59  \n",
              "UmbrellaLimit               0.0000       0.000  485961.000  10000000.00  "
            ],
            "text/html": [
              "\n",
              "  <div id=\"df-aa66921f-b1f3-47da-a4db-c23cdb8ae0f8\">\n",
              "    <div class=\"colab-df-container\">\n",
              "      <div>\n",
              "<style scoped>\n",
              "    .dataframe tbody tr th:only-of-type {\n",
              "        vertical-align: middle;\n",
              "    }\n",
              "\n",
              "    .dataframe tbody tr th {\n",
              "        vertical-align: top;\n",
              "    }\n",
              "\n",
              "    .dataframe thead th {\n",
              "        text-align: right;\n",
              "    }\n",
              "</style>\n",
              "<table border=\"1\" class=\"dataframe\">\n",
              "  <thead>\n",
              "    <tr style=\"text-align: right;\">\n",
              "      <th></th>\n",
              "      <th>count</th>\n",
              "      <th>mean</th>\n",
              "      <th>std</th>\n",
              "      <th>min</th>\n",
              "      <th>25%</th>\n",
              "      <th>50%</th>\n",
              "      <th>75%</th>\n",
              "      <th>max</th>\n",
              "    </tr>\n",
              "  </thead>\n",
              "  <tbody>\n",
              "    <tr>\n",
              "      <th>IncidentTime</th>\n",
              "      <td>28836.0</td>\n",
              "      <td>11.746047</td>\n",
              "      <td>6.170069e+00</td>\n",
              "      <td>-5.0</td>\n",
              "      <td>6.0000</td>\n",
              "      <td>12.000</td>\n",
              "      <td>17.000</td>\n",
              "      <td>23.00</td>\n",
              "    </tr>\n",
              "    <tr>\n",
              "      <th>NumberOfVehicles</th>\n",
              "      <td>28836.0</td>\n",
              "      <td>1.823207</td>\n",
              "      <td>9.800987e-01</td>\n",
              "      <td>1.0</td>\n",
              "      <td>1.0000</td>\n",
              "      <td>1.000</td>\n",
              "      <td>3.000</td>\n",
              "      <td>4.00</td>\n",
              "    </tr>\n",
              "    <tr>\n",
              "      <th>BodilyInjuries</th>\n",
              "      <td>28836.0</td>\n",
              "      <td>0.985782</td>\n",
              "      <td>7.847641e-01</td>\n",
              "      <td>0.0</td>\n",
              "      <td>0.0000</td>\n",
              "      <td>1.000</td>\n",
              "      <td>2.000</td>\n",
              "      <td>2.00</td>\n",
              "    </tr>\n",
              "    <tr>\n",
              "      <th>AmountOfInjuryClaim</th>\n",
              "      <td>28836.0</td>\n",
              "      <td>7337.118428</td>\n",
              "      <td>4.427639e+03</td>\n",
              "      <td>0.0</td>\n",
              "      <td>4743.7500</td>\n",
              "      <td>7147.000</td>\n",
              "      <td>10571.250</td>\n",
              "      <td>21450.00</td>\n",
              "    </tr>\n",
              "    <tr>\n",
              "      <th>AmountOfPropertyClaim</th>\n",
              "      <td>28836.0</td>\n",
              "      <td>7283.870197</td>\n",
              "      <td>4.375843e+03</td>\n",
              "      <td>0.0</td>\n",
              "      <td>4862.0000</td>\n",
              "      <td>7051.000</td>\n",
              "      <td>10327.000</td>\n",
              "      <td>23670.00</td>\n",
              "    </tr>\n",
              "    <tr>\n",
              "      <th>AmountOfVehicleDamage</th>\n",
              "      <td>28836.0</td>\n",
              "      <td>37687.129387</td>\n",
              "      <td>1.797705e+04</td>\n",
              "      <td>109.0</td>\n",
              "      <td>32193.2500</td>\n",
              "      <td>42457.500</td>\n",
              "      <td>49535.750</td>\n",
              "      <td>79560.00</td>\n",
              "    </tr>\n",
              "    <tr>\n",
              "      <th>InsuredAge</th>\n",
              "      <td>28836.0</td>\n",
              "      <td>38.815370</td>\n",
              "      <td>7.996377e+00</td>\n",
              "      <td>19.0</td>\n",
              "      <td>33.0000</td>\n",
              "      <td>38.000</td>\n",
              "      <td>44.000</td>\n",
              "      <td>64.00</td>\n",
              "    </tr>\n",
              "    <tr>\n",
              "      <th>InsuredZipCode</th>\n",
              "      <td>28836.0</td>\n",
              "      <td>502436.579068</td>\n",
              "      <td>7.225087e+04</td>\n",
              "      <td>430104.0</td>\n",
              "      <td>448603.0000</td>\n",
              "      <td>466691.000</td>\n",
              "      <td>603848.000</td>\n",
              "      <td>620962.00</td>\n",
              "    </tr>\n",
              "    <tr>\n",
              "      <th>CapitalGains</th>\n",
              "      <td>28836.0</td>\n",
              "      <td>23066.569566</td>\n",
              "      <td>2.763781e+04</td>\n",
              "      <td>0.0</td>\n",
              "      <td>0.0000</td>\n",
              "      <td>0.000</td>\n",
              "      <td>49000.000</td>\n",
              "      <td>100500.00</td>\n",
              "    </tr>\n",
              "    <tr>\n",
              "      <th>CapitalLoss</th>\n",
              "      <td>28836.0</td>\n",
              "      <td>-24940.612429</td>\n",
              "      <td>2.791321e+04</td>\n",
              "      <td>-111100.0</td>\n",
              "      <td>-50000.0000</td>\n",
              "      <td>0.000</td>\n",
              "      <td>0.000</td>\n",
              "      <td>0.00</td>\n",
              "    </tr>\n",
              "    <tr>\n",
              "      <th>InsurancePolicyNumber</th>\n",
              "      <td>28836.0</td>\n",
              "      <td>129312.517097</td>\n",
              "      <td>1.111406e+04</td>\n",
              "      <td>110122.0</td>\n",
              "      <td>119698.7500</td>\n",
              "      <td>129278.500</td>\n",
              "      <td>138933.250</td>\n",
              "      <td>148619.00</td>\n",
              "    </tr>\n",
              "    <tr>\n",
              "      <th>CustomerLoyaltyPeriod</th>\n",
              "      <td>28836.0</td>\n",
              "      <td>203.067867</td>\n",
              "      <td>9.993295e+01</td>\n",
              "      <td>1.0</td>\n",
              "      <td>126.0000</td>\n",
              "      <td>199.000</td>\n",
              "      <td>267.000</td>\n",
              "      <td>479.00</td>\n",
              "    </tr>\n",
              "    <tr>\n",
              "      <th>Policy_Deductible</th>\n",
              "      <td>28836.0</td>\n",
              "      <td>1114.282529</td>\n",
              "      <td>5.466328e+02</td>\n",
              "      <td>500.0</td>\n",
              "      <td>622.0000</td>\n",
              "      <td>1000.000</td>\n",
              "      <td>1627.000</td>\n",
              "      <td>2000.00</td>\n",
              "    </tr>\n",
              "    <tr>\n",
              "      <th>PolicyAnnualPremium</th>\n",
              "      <td>28836.0</td>\n",
              "      <td>1255.528382</td>\n",
              "      <td>2.230139e+02</td>\n",
              "      <td>-1.0</td>\n",
              "      <td>1122.0075</td>\n",
              "      <td>1265.205</td>\n",
              "      <td>1396.605</td>\n",
              "      <td>2047.59</td>\n",
              "    </tr>\n",
              "    <tr>\n",
              "      <th>UmbrellaLimit</th>\n",
              "      <td>28836.0</td>\n",
              "      <td>983668.034436</td>\n",
              "      <td>1.969282e+06</td>\n",
              "      <td>-1000000.0</td>\n",
              "      <td>0.0000</td>\n",
              "      <td>0.000</td>\n",
              "      <td>485961.000</td>\n",
              "      <td>10000000.00</td>\n",
              "    </tr>\n",
              "  </tbody>\n",
              "</table>\n",
              "</div>\n",
              "      <button class=\"colab-df-convert\" onclick=\"convertToInteractive('df-aa66921f-b1f3-47da-a4db-c23cdb8ae0f8')\"\n",
              "              title=\"Convert this dataframe to an interactive table.\"\n",
              "              style=\"display:none;\">\n",
              "        \n",
              "  <svg xmlns=\"http://www.w3.org/2000/svg\" height=\"24px\"viewBox=\"0 0 24 24\"\n",
              "       width=\"24px\">\n",
              "    <path d=\"M0 0h24v24H0V0z\" fill=\"none\"/>\n",
              "    <path d=\"M18.56 5.44l.94 2.06.94-2.06 2.06-.94-2.06-.94-.94-2.06-.94 2.06-2.06.94zm-11 1L8.5 8.5l.94-2.06 2.06-.94-2.06-.94L8.5 2.5l-.94 2.06-2.06.94zm10 10l.94 2.06.94-2.06 2.06-.94-2.06-.94-.94-2.06-.94 2.06-2.06.94z\"/><path d=\"M17.41 7.96l-1.37-1.37c-.4-.4-.92-.59-1.43-.59-.52 0-1.04.2-1.43.59L10.3 9.45l-7.72 7.72c-.78.78-.78 2.05 0 2.83L4 21.41c.39.39.9.59 1.41.59.51 0 1.02-.2 1.41-.59l7.78-7.78 2.81-2.81c.8-.78.8-2.07 0-2.86zM5.41 20L4 18.59l7.72-7.72 1.47 1.35L5.41 20z\"/>\n",
              "  </svg>\n",
              "      </button>\n",
              "      \n",
              "  <style>\n",
              "    .colab-df-container {\n",
              "      display:flex;\n",
              "      flex-wrap:wrap;\n",
              "      gap: 12px;\n",
              "    }\n",
              "\n",
              "    .colab-df-convert {\n",
              "      background-color: #E8F0FE;\n",
              "      border: none;\n",
              "      border-radius: 50%;\n",
              "      cursor: pointer;\n",
              "      display: none;\n",
              "      fill: #1967D2;\n",
              "      height: 32px;\n",
              "      padding: 0 0 0 0;\n",
              "      width: 32px;\n",
              "    }\n",
              "\n",
              "    .colab-df-convert:hover {\n",
              "      background-color: #E2EBFA;\n",
              "      box-shadow: 0px 1px 2px rgba(60, 64, 67, 0.3), 0px 1px 3px 1px rgba(60, 64, 67, 0.15);\n",
              "      fill: #174EA6;\n",
              "    }\n",
              "\n",
              "    [theme=dark] .colab-df-convert {\n",
              "      background-color: #3B4455;\n",
              "      fill: #D2E3FC;\n",
              "    }\n",
              "\n",
              "    [theme=dark] .colab-df-convert:hover {\n",
              "      background-color: #434B5C;\n",
              "      box-shadow: 0px 1px 3px 1px rgba(0, 0, 0, 0.15);\n",
              "      filter: drop-shadow(0px 1px 2px rgba(0, 0, 0, 0.3));\n",
              "      fill: #FFFFFF;\n",
              "    }\n",
              "  </style>\n",
              "\n",
              "      <script>\n",
              "        const buttonEl =\n",
              "          document.querySelector('#df-aa66921f-b1f3-47da-a4db-c23cdb8ae0f8 button.colab-df-convert');\n",
              "        buttonEl.style.display =\n",
              "          google.colab.kernel.accessAllowed ? 'block' : 'none';\n",
              "\n",
              "        async function convertToInteractive(key) {\n",
              "          const element = document.querySelector('#df-aa66921f-b1f3-47da-a4db-c23cdb8ae0f8');\n",
              "          const dataTable =\n",
              "            await google.colab.kernel.invokeFunction('convertToInteractive',\n",
              "                                                     [key], {});\n",
              "          if (!dataTable) return;\n",
              "\n",
              "          const docLinkHtml = 'Like what you see? Visit the ' +\n",
              "            '<a target=\"_blank\" href=https://colab.research.google.com/notebooks/data_table.ipynb>data table notebook</a>'\n",
              "            + ' to learn more about interactive tables.';\n",
              "          element.innerHTML = '';\n",
              "          dataTable['output_type'] = 'display_data';\n",
              "          await google.colab.output.renderOutput(dataTable, element);\n",
              "          const docLink = document.createElement('div');\n",
              "          docLink.innerHTML = docLinkHtml;\n",
              "          element.appendChild(docLink);\n",
              "        }\n",
              "      </script>\n",
              "    </div>\n",
              "  </div>\n",
              "  "
            ]
          },
          "metadata": {},
          "execution_count": 27
        }
      ],
      "source": [
        "df.describe().T"
      ]
    },
    {
      "cell_type": "code",
      "execution_count": null,
      "metadata": {
        "id": "8h4IrthG52LP",
        "colab": {
          "base_uri": "https://localhost:8080/"
        },
        "outputId": "cbbe56c1-a89b-498f-c095-9094d71af894"
      },
      "outputs": [
        {
          "output_type": "execute_result",
          "data": {
            "text/plain": [
              "CustomerID                    28836\n",
              "DateOfIncident                   72\n",
              "TypeOfIncident                    4\n",
              "TypeOfCollission                  3\n",
              "SeverityOfIncident                4\n",
              "AuthoritiesContacted              5\n",
              "IncidentState                     7\n",
              "IncidentCity                      7\n",
              "IncidentAddress                1000\n",
              "IncidentTime                     25\n",
              "NumberOfVehicles                  4\n",
              "PropertyDamage                    2\n",
              "BodilyInjuries                    3\n",
              "Witnesses                         5\n",
              "PoliceReport                      2\n",
              "AmountOfTotalClaim            21976\n",
              "AmountOfInjuryClaim           11958\n",
              "AmountOfPropertyClaim         11785\n",
              "AmountOfVehicleDamage         20041\n",
              "InsuredAge                       46\n",
              "InsuredZipCode                  995\n",
              "InsuredGender                     2\n",
              "InsuredEducationLevel             7\n",
              "InsuredOccupation                14\n",
              "InsuredHobbies                   20\n",
              "CapitalGains                    338\n",
              "CapitalLoss                     354\n",
              "Country                           1\n",
              "InsurancePolicyNumber         28836\n",
              "CustomerLoyaltyPeriod           479\n",
              "DateOfPolicyCoverage           6779\n",
              "InsurancePolicyState              3\n",
              "Policy_CombinedSingleLimit        9\n",
              "Policy_Deductible              1496\n",
              "PolicyAnnualPremium           23852\n",
              "UmbrellaLimit                  7089\n",
              "InsuredRelationship               6\n",
              "VehicleAttribute1                 1\n",
              "VehicleAttributeDetails1      28836\n",
              "VehicleAttribute2                 1\n",
              "VehicleAttributeDetails2         39\n",
              "VehicleAttribute3                 1\n",
              "VehicleAttributeDetails3         15\n",
              "VehicleAttribute4                 1\n",
              "VehicleAttributeDetails4         21\n",
              "ReportedFraud                     2\n",
              "dtype: int64"
            ]
          },
          "metadata": {},
          "execution_count": 28
        }
      ],
      "source": [
        "df.nunique()"
      ]
    },
    {
      "cell_type": "code",
      "execution_count": null,
      "metadata": {
        "id": "9xMGymT86y8J",
        "colab": {
          "base_uri": "https://localhost:8080/",
          "height": 1000
        },
        "outputId": "ff58ccf0-87d1-47d9-cfe6-563f486e08e0"
      },
      "outputs": [
        {
          "output_type": "execute_result",
          "data": {
            "text/plain": [
              "                        column data type  null total  null pctg  n_unique\n",
              "0                   CustomerID    object           0       0.00     28836\n",
              "1               DateOfIncident    object           0       0.00        72\n",
              "2               TypeOfIncident    object           0       0.00         4\n",
              "3             TypeOfCollission    object        5162      17.90         3\n",
              "4           SeverityOfIncident    object           0       0.00         4\n",
              "5         AuthoritiesContacted    object           0       0.00         5\n",
              "6                IncidentState    object           0       0.00         7\n",
              "7                 IncidentCity    object           0       0.00         7\n",
              "8              IncidentAddress    object           0       0.00      1000\n",
              "9                 IncidentTime     int64           0       0.00        25\n",
              "10            NumberOfVehicles     int64           0       0.00         4\n",
              "11              PropertyDamage    object       10459      36.27         2\n",
              "12              BodilyInjuries     int64           0       0.00         3\n",
              "13                   Witnesses    object           0       0.00         5\n",
              "14                PoliceReport    object        9805      34.00         2\n",
              "15          AmountOfTotalClaim    object           0       0.00     21976\n",
              "16         AmountOfInjuryClaim     int64           0       0.00     11958\n",
              "17       AmountOfPropertyClaim     int64           0       0.00     11785\n",
              "18       AmountOfVehicleDamage     int64           0       0.00     20041\n",
              "19                  InsuredAge     int64           0       0.00        46\n",
              "20              InsuredZipCode     int64           0       0.00       995\n",
              "21               InsuredGender    object          30       0.10         2\n",
              "22       InsuredEducationLevel    object           0       0.00         7\n",
              "23           InsuredOccupation    object           0       0.00        14\n",
              "24              InsuredHobbies    object           0       0.00        20\n",
              "25                CapitalGains     int64           0       0.00       338\n",
              "26                 CapitalLoss     int64           0       0.00       354\n",
              "27                     Country    object           2       0.01         1\n",
              "28       InsurancePolicyNumber     int64           0       0.00     28836\n",
              "29       CustomerLoyaltyPeriod     int64           0       0.00       479\n",
              "30        DateOfPolicyCoverage    object           0       0.00      6779\n",
              "31        InsurancePolicyState    object           0       0.00         3\n",
              "32  Policy_CombinedSingleLimit    object           0       0.00         9\n",
              "33           Policy_Deductible     int64           0       0.00      1496\n",
              "34         PolicyAnnualPremium   float64           0       0.00     23852\n",
              "35               UmbrellaLimit     int64           0       0.00      7089\n",
              "36         InsuredRelationship    object           0       0.00         6\n",
              "37           VehicleAttribute1    object           0       0.00         1\n",
              "38    VehicleAttributeDetails1    object           0       0.00     28836\n",
              "39           VehicleAttribute2    object           0       0.00         1\n",
              "40    VehicleAttributeDetails2    object           0       0.00        39\n",
              "41           VehicleAttribute3    object           0       0.00         1\n",
              "42    VehicleAttributeDetails3    object           0       0.00        15\n",
              "43           VehicleAttribute4    object           0       0.00         1\n",
              "44    VehicleAttributeDetails4    object           0       0.00        21\n",
              "45               ReportedFraud    object           0       0.00         2"
            ],
            "text/html": [
              "\n",
              "  <div id=\"df-274dd07d-83fd-4647-aadd-af25e8b32685\">\n",
              "    <div class=\"colab-df-container\">\n",
              "      <div>\n",
              "<style scoped>\n",
              "    .dataframe tbody tr th:only-of-type {\n",
              "        vertical-align: middle;\n",
              "    }\n",
              "\n",
              "    .dataframe tbody tr th {\n",
              "        vertical-align: top;\n",
              "    }\n",
              "\n",
              "    .dataframe thead th {\n",
              "        text-align: right;\n",
              "    }\n",
              "</style>\n",
              "<table border=\"1\" class=\"dataframe\">\n",
              "  <thead>\n",
              "    <tr style=\"text-align: right;\">\n",
              "      <th></th>\n",
              "      <th>column</th>\n",
              "      <th>data type</th>\n",
              "      <th>null total</th>\n",
              "      <th>null pctg</th>\n",
              "      <th>n_unique</th>\n",
              "    </tr>\n",
              "  </thead>\n",
              "  <tbody>\n",
              "    <tr>\n",
              "      <th>0</th>\n",
              "      <td>CustomerID</td>\n",
              "      <td>object</td>\n",
              "      <td>0</td>\n",
              "      <td>0.00</td>\n",
              "      <td>28836</td>\n",
              "    </tr>\n",
              "    <tr>\n",
              "      <th>1</th>\n",
              "      <td>DateOfIncident</td>\n",
              "      <td>object</td>\n",
              "      <td>0</td>\n",
              "      <td>0.00</td>\n",
              "      <td>72</td>\n",
              "    </tr>\n",
              "    <tr>\n",
              "      <th>2</th>\n",
              "      <td>TypeOfIncident</td>\n",
              "      <td>object</td>\n",
              "      <td>0</td>\n",
              "      <td>0.00</td>\n",
              "      <td>4</td>\n",
              "    </tr>\n",
              "    <tr>\n",
              "      <th>3</th>\n",
              "      <td>TypeOfCollission</td>\n",
              "      <td>object</td>\n",
              "      <td>5162</td>\n",
              "      <td>17.90</td>\n",
              "      <td>3</td>\n",
              "    </tr>\n",
              "    <tr>\n",
              "      <th>4</th>\n",
              "      <td>SeverityOfIncident</td>\n",
              "      <td>object</td>\n",
              "      <td>0</td>\n",
              "      <td>0.00</td>\n",
              "      <td>4</td>\n",
              "    </tr>\n",
              "    <tr>\n",
              "      <th>5</th>\n",
              "      <td>AuthoritiesContacted</td>\n",
              "      <td>object</td>\n",
              "      <td>0</td>\n",
              "      <td>0.00</td>\n",
              "      <td>5</td>\n",
              "    </tr>\n",
              "    <tr>\n",
              "      <th>6</th>\n",
              "      <td>IncidentState</td>\n",
              "      <td>object</td>\n",
              "      <td>0</td>\n",
              "      <td>0.00</td>\n",
              "      <td>7</td>\n",
              "    </tr>\n",
              "    <tr>\n",
              "      <th>7</th>\n",
              "      <td>IncidentCity</td>\n",
              "      <td>object</td>\n",
              "      <td>0</td>\n",
              "      <td>0.00</td>\n",
              "      <td>7</td>\n",
              "    </tr>\n",
              "    <tr>\n",
              "      <th>8</th>\n",
              "      <td>IncidentAddress</td>\n",
              "      <td>object</td>\n",
              "      <td>0</td>\n",
              "      <td>0.00</td>\n",
              "      <td>1000</td>\n",
              "    </tr>\n",
              "    <tr>\n",
              "      <th>9</th>\n",
              "      <td>IncidentTime</td>\n",
              "      <td>int64</td>\n",
              "      <td>0</td>\n",
              "      <td>0.00</td>\n",
              "      <td>25</td>\n",
              "    </tr>\n",
              "    <tr>\n",
              "      <th>10</th>\n",
              "      <td>NumberOfVehicles</td>\n",
              "      <td>int64</td>\n",
              "      <td>0</td>\n",
              "      <td>0.00</td>\n",
              "      <td>4</td>\n",
              "    </tr>\n",
              "    <tr>\n",
              "      <th>11</th>\n",
              "      <td>PropertyDamage</td>\n",
              "      <td>object</td>\n",
              "      <td>10459</td>\n",
              "      <td>36.27</td>\n",
              "      <td>2</td>\n",
              "    </tr>\n",
              "    <tr>\n",
              "      <th>12</th>\n",
              "      <td>BodilyInjuries</td>\n",
              "      <td>int64</td>\n",
              "      <td>0</td>\n",
              "      <td>0.00</td>\n",
              "      <td>3</td>\n",
              "    </tr>\n",
              "    <tr>\n",
              "      <th>13</th>\n",
              "      <td>Witnesses</td>\n",
              "      <td>object</td>\n",
              "      <td>0</td>\n",
              "      <td>0.00</td>\n",
              "      <td>5</td>\n",
              "    </tr>\n",
              "    <tr>\n",
              "      <th>14</th>\n",
              "      <td>PoliceReport</td>\n",
              "      <td>object</td>\n",
              "      <td>9805</td>\n",
              "      <td>34.00</td>\n",
              "      <td>2</td>\n",
              "    </tr>\n",
              "    <tr>\n",
              "      <th>15</th>\n",
              "      <td>AmountOfTotalClaim</td>\n",
              "      <td>object</td>\n",
              "      <td>0</td>\n",
              "      <td>0.00</td>\n",
              "      <td>21976</td>\n",
              "    </tr>\n",
              "    <tr>\n",
              "      <th>16</th>\n",
              "      <td>AmountOfInjuryClaim</td>\n",
              "      <td>int64</td>\n",
              "      <td>0</td>\n",
              "      <td>0.00</td>\n",
              "      <td>11958</td>\n",
              "    </tr>\n",
              "    <tr>\n",
              "      <th>17</th>\n",
              "      <td>AmountOfPropertyClaim</td>\n",
              "      <td>int64</td>\n",
              "      <td>0</td>\n",
              "      <td>0.00</td>\n",
              "      <td>11785</td>\n",
              "    </tr>\n",
              "    <tr>\n",
              "      <th>18</th>\n",
              "      <td>AmountOfVehicleDamage</td>\n",
              "      <td>int64</td>\n",
              "      <td>0</td>\n",
              "      <td>0.00</td>\n",
              "      <td>20041</td>\n",
              "    </tr>\n",
              "    <tr>\n",
              "      <th>19</th>\n",
              "      <td>InsuredAge</td>\n",
              "      <td>int64</td>\n",
              "      <td>0</td>\n",
              "      <td>0.00</td>\n",
              "      <td>46</td>\n",
              "    </tr>\n",
              "    <tr>\n",
              "      <th>20</th>\n",
              "      <td>InsuredZipCode</td>\n",
              "      <td>int64</td>\n",
              "      <td>0</td>\n",
              "      <td>0.00</td>\n",
              "      <td>995</td>\n",
              "    </tr>\n",
              "    <tr>\n",
              "      <th>21</th>\n",
              "      <td>InsuredGender</td>\n",
              "      <td>object</td>\n",
              "      <td>30</td>\n",
              "      <td>0.10</td>\n",
              "      <td>2</td>\n",
              "    </tr>\n",
              "    <tr>\n",
              "      <th>22</th>\n",
              "      <td>InsuredEducationLevel</td>\n",
              "      <td>object</td>\n",
              "      <td>0</td>\n",
              "      <td>0.00</td>\n",
              "      <td>7</td>\n",
              "    </tr>\n",
              "    <tr>\n",
              "      <th>23</th>\n",
              "      <td>InsuredOccupation</td>\n",
              "      <td>object</td>\n",
              "      <td>0</td>\n",
              "      <td>0.00</td>\n",
              "      <td>14</td>\n",
              "    </tr>\n",
              "    <tr>\n",
              "      <th>24</th>\n",
              "      <td>InsuredHobbies</td>\n",
              "      <td>object</td>\n",
              "      <td>0</td>\n",
              "      <td>0.00</td>\n",
              "      <td>20</td>\n",
              "    </tr>\n",
              "    <tr>\n",
              "      <th>25</th>\n",
              "      <td>CapitalGains</td>\n",
              "      <td>int64</td>\n",
              "      <td>0</td>\n",
              "      <td>0.00</td>\n",
              "      <td>338</td>\n",
              "    </tr>\n",
              "    <tr>\n",
              "      <th>26</th>\n",
              "      <td>CapitalLoss</td>\n",
              "      <td>int64</td>\n",
              "      <td>0</td>\n",
              "      <td>0.00</td>\n",
              "      <td>354</td>\n",
              "    </tr>\n",
              "    <tr>\n",
              "      <th>27</th>\n",
              "      <td>Country</td>\n",
              "      <td>object</td>\n",
              "      <td>2</td>\n",
              "      <td>0.01</td>\n",
              "      <td>1</td>\n",
              "    </tr>\n",
              "    <tr>\n",
              "      <th>28</th>\n",
              "      <td>InsurancePolicyNumber</td>\n",
              "      <td>int64</td>\n",
              "      <td>0</td>\n",
              "      <td>0.00</td>\n",
              "      <td>28836</td>\n",
              "    </tr>\n",
              "    <tr>\n",
              "      <th>29</th>\n",
              "      <td>CustomerLoyaltyPeriod</td>\n",
              "      <td>int64</td>\n",
              "      <td>0</td>\n",
              "      <td>0.00</td>\n",
              "      <td>479</td>\n",
              "    </tr>\n",
              "    <tr>\n",
              "      <th>30</th>\n",
              "      <td>DateOfPolicyCoverage</td>\n",
              "      <td>object</td>\n",
              "      <td>0</td>\n",
              "      <td>0.00</td>\n",
              "      <td>6779</td>\n",
              "    </tr>\n",
              "    <tr>\n",
              "      <th>31</th>\n",
              "      <td>InsurancePolicyState</td>\n",
              "      <td>object</td>\n",
              "      <td>0</td>\n",
              "      <td>0.00</td>\n",
              "      <td>3</td>\n",
              "    </tr>\n",
              "    <tr>\n",
              "      <th>32</th>\n",
              "      <td>Policy_CombinedSingleLimit</td>\n",
              "      <td>object</td>\n",
              "      <td>0</td>\n",
              "      <td>0.00</td>\n",
              "      <td>9</td>\n",
              "    </tr>\n",
              "    <tr>\n",
              "      <th>33</th>\n",
              "      <td>Policy_Deductible</td>\n",
              "      <td>int64</td>\n",
              "      <td>0</td>\n",
              "      <td>0.00</td>\n",
              "      <td>1496</td>\n",
              "    </tr>\n",
              "    <tr>\n",
              "      <th>34</th>\n",
              "      <td>PolicyAnnualPremium</td>\n",
              "      <td>float64</td>\n",
              "      <td>0</td>\n",
              "      <td>0.00</td>\n",
              "      <td>23852</td>\n",
              "    </tr>\n",
              "    <tr>\n",
              "      <th>35</th>\n",
              "      <td>UmbrellaLimit</td>\n",
              "      <td>int64</td>\n",
              "      <td>0</td>\n",
              "      <td>0.00</td>\n",
              "      <td>7089</td>\n",
              "    </tr>\n",
              "    <tr>\n",
              "      <th>36</th>\n",
              "      <td>InsuredRelationship</td>\n",
              "      <td>object</td>\n",
              "      <td>0</td>\n",
              "      <td>0.00</td>\n",
              "      <td>6</td>\n",
              "    </tr>\n",
              "    <tr>\n",
              "      <th>37</th>\n",
              "      <td>VehicleAttribute1</td>\n",
              "      <td>object</td>\n",
              "      <td>0</td>\n",
              "      <td>0.00</td>\n",
              "      <td>1</td>\n",
              "    </tr>\n",
              "    <tr>\n",
              "      <th>38</th>\n",
              "      <td>VehicleAttributeDetails1</td>\n",
              "      <td>object</td>\n",
              "      <td>0</td>\n",
              "      <td>0.00</td>\n",
              "      <td>28836</td>\n",
              "    </tr>\n",
              "    <tr>\n",
              "      <th>39</th>\n",
              "      <td>VehicleAttribute2</td>\n",
              "      <td>object</td>\n",
              "      <td>0</td>\n",
              "      <td>0.00</td>\n",
              "      <td>1</td>\n",
              "    </tr>\n",
              "    <tr>\n",
              "      <th>40</th>\n",
              "      <td>VehicleAttributeDetails2</td>\n",
              "      <td>object</td>\n",
              "      <td>0</td>\n",
              "      <td>0.00</td>\n",
              "      <td>39</td>\n",
              "    </tr>\n",
              "    <tr>\n",
              "      <th>41</th>\n",
              "      <td>VehicleAttribute3</td>\n",
              "      <td>object</td>\n",
              "      <td>0</td>\n",
              "      <td>0.00</td>\n",
              "      <td>1</td>\n",
              "    </tr>\n",
              "    <tr>\n",
              "      <th>42</th>\n",
              "      <td>VehicleAttributeDetails3</td>\n",
              "      <td>object</td>\n",
              "      <td>0</td>\n",
              "      <td>0.00</td>\n",
              "      <td>15</td>\n",
              "    </tr>\n",
              "    <tr>\n",
              "      <th>43</th>\n",
              "      <td>VehicleAttribute4</td>\n",
              "      <td>object</td>\n",
              "      <td>0</td>\n",
              "      <td>0.00</td>\n",
              "      <td>1</td>\n",
              "    </tr>\n",
              "    <tr>\n",
              "      <th>44</th>\n",
              "      <td>VehicleAttributeDetails4</td>\n",
              "      <td>object</td>\n",
              "      <td>0</td>\n",
              "      <td>0.00</td>\n",
              "      <td>21</td>\n",
              "    </tr>\n",
              "    <tr>\n",
              "      <th>45</th>\n",
              "      <td>ReportedFraud</td>\n",
              "      <td>object</td>\n",
              "      <td>0</td>\n",
              "      <td>0.00</td>\n",
              "      <td>2</td>\n",
              "    </tr>\n",
              "  </tbody>\n",
              "</table>\n",
              "</div>\n",
              "      <button class=\"colab-df-convert\" onclick=\"convertToInteractive('df-274dd07d-83fd-4647-aadd-af25e8b32685')\"\n",
              "              title=\"Convert this dataframe to an interactive table.\"\n",
              "              style=\"display:none;\">\n",
              "        \n",
              "  <svg xmlns=\"http://www.w3.org/2000/svg\" height=\"24px\"viewBox=\"0 0 24 24\"\n",
              "       width=\"24px\">\n",
              "    <path d=\"M0 0h24v24H0V0z\" fill=\"none\"/>\n",
              "    <path d=\"M18.56 5.44l.94 2.06.94-2.06 2.06-.94-2.06-.94-.94-2.06-.94 2.06-2.06.94zm-11 1L8.5 8.5l.94-2.06 2.06-.94-2.06-.94L8.5 2.5l-.94 2.06-2.06.94zm10 10l.94 2.06.94-2.06 2.06-.94-2.06-.94-.94-2.06-.94 2.06-2.06.94z\"/><path d=\"M17.41 7.96l-1.37-1.37c-.4-.4-.92-.59-1.43-.59-.52 0-1.04.2-1.43.59L10.3 9.45l-7.72 7.72c-.78.78-.78 2.05 0 2.83L4 21.41c.39.39.9.59 1.41.59.51 0 1.02-.2 1.41-.59l7.78-7.78 2.81-2.81c.8-.78.8-2.07 0-2.86zM5.41 20L4 18.59l7.72-7.72 1.47 1.35L5.41 20z\"/>\n",
              "  </svg>\n",
              "      </button>\n",
              "      \n",
              "  <style>\n",
              "    .colab-df-container {\n",
              "      display:flex;\n",
              "      flex-wrap:wrap;\n",
              "      gap: 12px;\n",
              "    }\n",
              "\n",
              "    .colab-df-convert {\n",
              "      background-color: #E8F0FE;\n",
              "      border: none;\n",
              "      border-radius: 50%;\n",
              "      cursor: pointer;\n",
              "      display: none;\n",
              "      fill: #1967D2;\n",
              "      height: 32px;\n",
              "      padding: 0 0 0 0;\n",
              "      width: 32px;\n",
              "    }\n",
              "\n",
              "    .colab-df-convert:hover {\n",
              "      background-color: #E2EBFA;\n",
              "      box-shadow: 0px 1px 2px rgba(60, 64, 67, 0.3), 0px 1px 3px 1px rgba(60, 64, 67, 0.15);\n",
              "      fill: #174EA6;\n",
              "    }\n",
              "\n",
              "    [theme=dark] .colab-df-convert {\n",
              "      background-color: #3B4455;\n",
              "      fill: #D2E3FC;\n",
              "    }\n",
              "\n",
              "    [theme=dark] .colab-df-convert:hover {\n",
              "      background-color: #434B5C;\n",
              "      box-shadow: 0px 1px 3px 1px rgba(0, 0, 0, 0.15);\n",
              "      filter: drop-shadow(0px 1px 2px rgba(0, 0, 0, 0.3));\n",
              "      fill: #FFFFFF;\n",
              "    }\n",
              "  </style>\n",
              "\n",
              "      <script>\n",
              "        const buttonEl =\n",
              "          document.querySelector('#df-274dd07d-83fd-4647-aadd-af25e8b32685 button.colab-df-convert');\n",
              "        buttonEl.style.display =\n",
              "          google.colab.kernel.accessAllowed ? 'block' : 'none';\n",
              "\n",
              "        async function convertToInteractive(key) {\n",
              "          const element = document.querySelector('#df-274dd07d-83fd-4647-aadd-af25e8b32685');\n",
              "          const dataTable =\n",
              "            await google.colab.kernel.invokeFunction('convertToInteractive',\n",
              "                                                     [key], {});\n",
              "          if (!dataTable) return;\n",
              "\n",
              "          const docLinkHtml = 'Like what you see? Visit the ' +\n",
              "            '<a target=\"_blank\" href=https://colab.research.google.com/notebooks/data_table.ipynb>data table notebook</a>'\n",
              "            + ' to learn more about interactive tables.';\n",
              "          element.innerHTML = '';\n",
              "          dataTable['output_type'] = 'display_data';\n",
              "          await google.colab.output.renderOutput(dataTable, element);\n",
              "          const docLink = document.createElement('div');\n",
              "          docLink.innerHTML = docLinkHtml;\n",
              "          element.appendChild(docLink);\n",
              "        }\n",
              "      </script>\n",
              "    </div>\n",
              "  </div>\n",
              "  "
            ]
          },
          "metadata": {},
          "execution_count": 29
        }
      ],
      "source": [
        "listitem = []\n",
        "for col in df.columns:\n",
        "    listitem.append({\n",
        "        'column' : col,\n",
        "        'data type' : df[col].dtype,\n",
        "        'null total' : df[col].isna().sum(),\n",
        "        'null pctg' : round(df[col].isna().sum()/len(df[col])*100,2),\n",
        "        'n_unique' : df[col].nunique(),   \n",
        "    })\n",
        "    \n",
        "pd.DataFrame(listitem)"
      ]
    },
    {
      "cell_type": "code",
      "execution_count": null,
      "metadata": {
        "id": "lb8wT8x17WG4",
        "colab": {
          "base_uri": "https://localhost:8080/"
        },
        "outputId": "5aa3d6cd-0386-4550-e6cf-dfaa5abb0ecd"
      },
      "outputs": [
        {
          "output_type": "stream",
          "name": "stdout",
          "text": [
            "{'CustomerID': array(['Cust10000', 'Cust10001', 'Cust10002', ..., 'Cust9996', 'Cust9997',\n",
            "       'Cust9999'], dtype=object)}\n",
            "{'DateOfIncident': array(['2015-02-03', '2015-02-02', '2015-01-15', '2015-01-19',\n",
            "       '2015-01-09', '2015-02-07', '2015-01-30', '2015-01-12',\n",
            "       '2015-02-06', '2015-01-25', '2015-02-10', '2015-02-22',\n",
            "       '2015-02-25', '2015-01-02', '2015-02-28', '2015-01-03',\n",
            "       '2015-01-29', '2015-02-23', '2015-01-28', '2015-02-26',\n",
            "       '2015-01-27', '2015-01-16', '2015-01-17', '2015-02-04',\n",
            "       '2015-01-05', '2015-01-10', '2015-02-11', '2015-01-13',\n",
            "       '2015-01-06', '2015-01-07', '2015-02-17', '2015-02-12',\n",
            "       '2015-02-13', '2015-01-26', '2015-02-21', '2015-02-14',\n",
            "       '2015-02-15', '2015-01-20', '2015-01-24', '2015-01-08',\n",
            "       '2015-01-11', '2015-02-09', '2015-02-27', '2015-02-24',\n",
            "       '2015-01-18', '2015-02-08', '2015-01-22', '2015-02-19',\n",
            "       '2015-02-18', '2015-02-16', '2015-01-04', '2015-02-05',\n",
            "       '2015-01-01', '2015-01-23', '2015-01-21', '2015-01-14',\n",
            "       '2015-02-20', '2015-01-31', '2015-03-06', '2015-03-01',\n",
            "       '2015-03-04', '2015-03-03', '2015-03-02', '2015-02-01',\n",
            "       '2015-03-05', '2015-03-09', '2015-03-11', '2015-03-07',\n",
            "       '2015-03-08', '2015-03-12', '2015-03-10', '2015-03-14'],\n",
            "      dtype=object)}\n",
            "{'TypeOfIncident': array(['Multi-vehicle Collision', 'Single Vehicle Collision',\n",
            "       'Parked Car', 'Vehicle Theft'], dtype=object)}\n",
            "{'TypeOfCollission': array(['Side Collision', 'Rear Collision', 'Front Collision', nan],\n",
            "      dtype=object)}\n",
            "{'SeverityOfIncident': array(['Total Loss', 'Minor Damage', 'Major Damage', 'Trivial Damage'],\n",
            "      dtype=object)}\n",
            "{'AuthoritiesContacted': array(['Police', 'Other', 'Fire', 'Ambulance', 'None'], dtype=object)}\n",
            "{'IncidentState': array(['State7', 'State8', 'State9', 'State5', 'State6', 'State4',\n",
            "       'State3'], dtype=object)}\n",
            "{'IncidentCity': array(['City1', 'City5', 'City6', 'City4', 'City3', 'City2', 'City7'],\n",
            "      dtype=object)}\n",
            "{'IncidentAddress': array(['Location 1311', 'Location 2081', 'Location 1695', 'Location 1440',\n",
            "       'Location 1521', 'Location 1596', 'Location 2002', 'Location 1341',\n",
            "       'Location 1799', 'Location 2030', 'Location 1677', 'Location 1963',\n",
            "       'Location 1449', 'Location 1580', 'Location 1167', 'Location 1261',\n",
            "       'Location 1793', 'Location 1112', 'Location 2092', 'Location 1292',\n",
            "       'Location 1024', 'Location 1426', 'Location 1359', 'Location 1228',\n",
            "       'Location 1990', 'Location 2054', 'Location 1076', 'Location 1025',\n",
            "       'Location 1372', 'Location 1629', 'Location 1060', 'Location 1189',\n",
            "       'Location 1518', 'Location 1302', 'Location 1690', 'Location 1469',\n",
            "       'Location 1593', 'Location 1231', 'Location 2051', 'Location 1362',\n",
            "       'Location 1916', 'Location 1179', 'Location 1404', 'Location 1842',\n",
            "       'Location 1834', 'Location 1986', 'Location 1943', 'Location 1345',\n",
            "       'Location 1326', 'Location 1090', 'Location 1353', 'Location 1703',\n",
            "       'Location 1863', 'Location 1517', 'Location 1838', 'Location 1966',\n",
            "       'Location 1767', 'Location 1482', 'Location 1892', 'Location 2001',\n",
            "       'Location 1620', 'Location 1320', 'Location 1807', 'Location 1104',\n",
            "       'Location 1177', 'Location 1574', 'Location 1756', 'Location 1089',\n",
            "       'Location 1942', 'Location 2078', 'Location 1523', 'Location 1858',\n",
            "       'Location 1582', 'Location 1441', 'Location 2077', 'Location 1131',\n",
            "       'Location 1935', 'Location 1460', 'Location 1524', 'Location 1773',\n",
            "       'Location 1824', 'Location 1597', 'Location 1500', 'Location 2074',\n",
            "       'Location 1330', 'Location 1286', 'Location 1958', 'Location 1346',\n",
            "       'Location 1944', 'Location 1361', 'Location 1586', 'Location 2096',\n",
            "       'Location 1573', 'Location 1655', 'Location 1498', 'Location 1409',\n",
            "       'Location 1654', 'Location 1439', 'Location 1953', 'Location 1995',\n",
            "       'Location 1435', 'Location 2060', 'Location 1081', 'Location 1595',\n",
            "       'Location 1194', 'Location 1200', 'Location 1822', 'Location 1543',\n",
            "       'Location 1212', 'Location 1012', 'Location 1535', 'Location 1419',\n",
            "       'Location 1375', 'Location 1619', 'Location 1445', 'Location 1757',\n",
            "       'Location 1370', 'Location 1249', 'Location 1632', 'Location 1882',\n",
            "       'Location 1230', 'Location 1055', 'Location 1405', 'Location 1117',\n",
            "       'Location 1288', 'Location 1931', 'Location 1003', 'Location 1227',\n",
            "       'Location 1579', 'Location 1778', 'Location 1881', 'Location 1885',\n",
            "       'Location 1011', 'Location 1700', 'Location 1496', 'Location 1591',\n",
            "       'Location 1026', 'Location 1430', 'Location 1883', 'Location 1541',\n",
            "       'Location 1052', 'Location 1987', 'Location 2070', 'Location 1027',\n",
            "       'Location 1467', 'Location 1127', 'Location 1136', 'Location 1683',\n",
            "       'Location 1915', 'Location 1968', 'Location 1652', 'Location 1840',\n",
            "       'Location 2053', 'Location 1053', 'Location 1339', 'Location 1264',\n",
            "       'Location 1310', 'Location 1659', 'Location 1351', 'Location 2084',\n",
            "       'Location 1859', 'Location 1970', 'Location 1465', 'Location 1639',\n",
            "       'Location 1146', 'Location 1489', 'Location 1967', 'Location 1626',\n",
            "       'Location 1471', 'Location 1168', 'Location 1491', 'Location 2014',\n",
            "       'Location 1411', 'Location 1329', 'Location 1384', 'Location 1945',\n",
            "       'Location 1667', 'Location 1436', 'Location 1505', 'Location 1067',\n",
            "       'Location 1999', 'Location 1747', 'Location 1823', 'Location 2062',\n",
            "       'Location 1739', 'Location 1407', 'Location 2016', 'Location 1098',\n",
            "       'Location 1835', 'Location 1548', 'Location 2038', 'Location 1453',\n",
            "       'Location 2068', 'Location 1242', 'Location 1621', 'Location 1408',\n",
            "       'Location 2013', 'Location 1206', 'Location 1926', 'Location 1262',\n",
            "       'Location 1554', 'Location 2087', 'Location 1831', 'Location 1381',\n",
            "       'Location 1305', 'Location 1855', 'Location 1708', 'Location 1733',\n",
            "       'Location 1042', 'Location 1609', 'Location 1437', 'Location 2012',\n",
            "       'Location 1124', 'Location 1741', 'Location 1800', 'Location 1423',\n",
            "       'Location 1294', 'Location 1810', 'Location 1013', 'Location 1828',\n",
            "       'Location 1020', 'Location 1668', 'Location 1422', 'Location 2021',\n",
            "       'Location 1309', 'Location 1327', 'Location 1352', 'Location 1155',\n",
            "       'Location 1720', 'Location 1056', 'Location 1515', 'Location 1998',\n",
            "       'Location 1940', 'Location 1037', 'Location 1813', 'Location 1910',\n",
            "       'Location 1391', 'Location 1468', 'Location 1238', 'Location 2082',\n",
            "       'Location 2044', 'Location 1786', 'Location 1259', 'Location 1235',\n",
            "       'Location 1670', 'Location 1223', 'Location 1443', 'Location 1126',\n",
            "       'Location 1364', 'Location 1504', 'Location 1985', 'Location 1486',\n",
            "       'Location 1038', 'Location 1663', 'Location 1041', 'Location 1447',\n",
            "       'Location 1214', 'Location 1884', 'Location 1001', 'Location 1150',\n",
            "       'Location 1480', 'Location 1234', 'Location 1714', 'Location 1730',\n",
            "       'Location 1097', 'Location 1044', 'Location 1047', 'Location 2083',\n",
            "       'Location 1332', 'Location 1928', 'Location 1750', 'Location 1644',\n",
            "       'Location 2006', 'Location 1559', 'Location 1601', 'Location 1385',\n",
            "       'Location 1356', 'Location 1991', 'Location 1680', 'Location 1221',\n",
            "       'Location 1360', 'Location 1474', 'Location 1638', 'Location 1448',\n",
            "       'Location 1275', 'Location 2091', 'Location 2100', 'Location 1344',\n",
            "       'Location 1529', 'Location 1774', 'Location 1957', 'Location 1718',\n",
            "       'Location 1108', 'Location 1516', 'Location 1349', 'Location 1497',\n",
            "       'Location 1226', 'Location 1425', 'Location 1450', 'Location 2026',\n",
            "       'Location 1400', 'Location 1289', 'Location 1421', 'Location 1955',\n",
            "       'Location 1929', 'Location 1843', 'Location 1503', 'Location 1245',\n",
            "       'Location 1615', 'Location 1438', 'Location 1100', 'Location 1253',\n",
            "       'Location 2090', 'Location 1583', 'Location 1466', 'Location 1444',\n",
            "       'Location 1777', 'Location 1755', 'Location 1901', 'Location 1765',\n",
            "       'Location 1537', 'Location 2027', 'Location 1538', 'Location 1006',\n",
            "       'Location 1771', 'Location 1045', 'Location 1600', 'Location 1240',\n",
            "       'Location 1093', 'Location 1542', 'Location 1096', 'Location 1584',\n",
            "       'Location 1217', 'Location 1002', 'Location 1571', 'Location 1273',\n",
            "       'Location 1145', 'Location 1196', 'Location 1087', 'Location 1510',\n",
            "       'Location 1507', 'Location 1520', 'Location 1051', 'Location 1457',\n",
            "       'Location 1971', 'Location 1284', 'Location 2029', 'Location 1338',\n",
            "       'Location 1128', 'Location 1594', 'Location 1623', 'Location 1552',\n",
            "       'Location 1649', 'Location 1137', 'Location 1553', 'Location 1819',\n",
            "       'Location 1433', 'Location 1374', 'Location 1948', 'Location 1144',\n",
            "       'Location 1387', 'Location 1307', 'Location 1199', 'Location 1147',\n",
            "       'Location 1250', 'Location 1715', 'Location 1726', 'Location 1476',\n",
            "       'Location 1962', 'Location 1735', 'Location 1394', 'Location 1866',\n",
            "       'Location 1876', 'Location 1004', 'Location 1598', 'Location 1039',\n",
            "       'Location 1308', 'Location 1645', 'Location 1577', 'Location 1941',\n",
            "       'Location 1624', 'Location 1290', 'Location 1846', 'Location 1232',\n",
            "       'Location 1754', 'Location 1007', 'Location 1256', 'Location 1077',\n",
            "       'Location 1723', 'Location 1949', 'Location 1952', 'Location 1070',\n",
            "       'Location 1912', 'Location 1401', 'Location 1870', 'Location 1847',\n",
            "       'Location 1894', 'Location 1148', 'Location 2089', 'Location 1161',\n",
            "       'Location 1792', 'Location 1058', 'Location 1528', 'Location 1225',\n",
            "       'Location 1576', 'Location 1064', 'Location 1759', 'Location 1159',\n",
            "       'Location 1974', 'Location 1511', 'Location 1745', 'Location 1121',\n",
            "       'Location 1839', 'Location 1917', 'Location 1861', 'Location 1304',\n",
            "       'Location 1641', 'Location 1158', 'Location 1906', 'Location 1178',\n",
            "       'Location 1218', 'Location 2097', 'Location 1907', 'Location 1239',\n",
            "       'Location 1152', 'Location 1788', 'Location 1287', 'Location 1872',\n",
            "       'Location 1123', 'Location 1140', 'Location 1920', 'Location 1185',\n",
            "       'Location 1092', 'Location 1712', 'Location 2056', 'Location 1085',\n",
            "       'Location 1979', 'Location 1947', 'Location 1492', 'Location 1257',\n",
            "       'Location 1473', 'Location 1015', 'Location 2018', 'Location 1675',\n",
            "       'Location 1255', 'Location 1017', 'Location 1558', 'Location 1851',\n",
            "       'Location 1561', 'Location 1187', 'Location 1815', 'Location 1776',\n",
            "       'Location 1997', 'Location 1821', 'Location 1297', 'Location 1646',\n",
            "       'Location 1186', 'Location 1530', 'Location 1010', 'Location 1392',\n",
            "       'Location 1182', 'Location 1176', 'Location 1118', 'Location 1005',\n",
            "       'Location 1865', 'Location 1869', 'Location 1258', 'Location 1610',\n",
            "       'Location 1764', 'Location 1827', 'Location 2041', 'Location 1845',\n",
            "       'Location 1832', 'Location 1368', 'Location 1016', 'Location 1295',\n",
            "       'Location 1526', 'Location 1630', 'Location 1029', 'Location 1938',\n",
            "       'Location 2022', 'Location 1818', 'Location 1694', 'Location 1246',\n",
            "       'Location 1412', 'Location 2098', 'Location 2075', 'Location 2042',\n",
            "       'Location 1618', 'Location 1904', 'Location 1057', 'Location 1485',\n",
            "       'Location 1063', 'Location 1276', 'Location 1172', 'Location 1588',\n",
            "       'Location 2095', 'Location 1366', 'Location 1105', 'Location 1556',\n",
            "       'Location 1686', 'Location 1210', 'Location 1348', 'Location 1251',\n",
            "       'Location 1321', 'Location 1671', 'Location 1209', 'Location 2049',\n",
            "       'Location 2099', 'Location 1648', 'Location 1135', 'Location 1816',\n",
            "       'Location 1951', 'Location 1877', 'Location 1424', 'Location 1934',\n",
            "       'Location 1705', 'Location 1282', 'Location 1527', 'Location 1395',\n",
            "       'Location 1220', 'Location 1354', 'Location 2023', 'Location 1247',\n",
            "       'Location 1706', 'Location 1080', 'Location 1608', 'Location 2003',\n",
            "       'Location 1853', 'Location 1642', 'Location 1692', 'Location 1748',\n",
            "       'Location 1431', 'Location 1195', 'Location 1418', 'Location 1713',\n",
            "       'Location 1661', 'Location 1544', 'Location 1281', 'Location 1110',\n",
            "       'Location 1830', 'Location 1737', 'Location 1171', 'Location 1513',\n",
            "       'Location 1913', 'Location 1569', 'Location 1312', 'Location 1785',\n",
            "       'Location 1031', 'Location 2007', 'Location 2005', 'Location 1028',\n",
            "       'Location 1062', 'Location 2071', 'Location 1617', 'Location 1744',\n",
            "       'Location 1939', 'Location 1796', 'Location 2061', 'Location 1406',\n",
            "       'Location 1585', 'Location 1678', 'Location 2052', 'Location 2046',\n",
            "       'Location 1699', 'Location 1021', 'Location 1791', 'Location 1219',\n",
            "       'Location 1867', 'Location 1685', 'Location 1669', 'Location 1298',\n",
            "       'Location 2069', 'Location 1481', 'Location 1271', 'Location 1363',\n",
            "       'Location 1959', 'Location 2032', 'Location 1762', 'Location 1983',\n",
            "       'Location 1634', 'Location 1046', 'Location 1676', 'Location 1805',\n",
            "       'Location 2033', 'Location 1633', 'Location 1432', 'Location 1272',\n",
            "       'Location 1114', 'Location 1738', 'Location 1296', 'Location 1658',\n",
            "       'Location 1874', 'Location 1972', 'Location 2067', 'Location 2065',\n",
            "       'Location 1772', 'Location 1048', 'Location 1488', 'Location 1982',\n",
            "       'Location 1672', 'Location 1502', 'Location 1662', 'Location 1787',\n",
            "       'Location 1566', 'Location 1900', 'Location 1650', 'Location 1722',\n",
            "       'Location 1483', 'Location 1086', 'Location 1864', 'Location 1303',\n",
            "       'Location 1873', 'Location 2037', 'Location 1770', 'Location 1862',\n",
            "       'Location 1808', 'Location 1969', 'Location 1514', 'Location 1531',\n",
            "       'Location 1416', 'Location 1040', 'Location 1532', 'Location 1682',\n",
            "       'Location 1454', 'Location 1752', 'Location 1587', 'Location 1050',\n",
            "       'Location 1035', 'Location 1285', 'Location 1134', 'Location 1094',\n",
            "       'Location 1501', 'Location 1494', 'Location 1981', 'Location 1781',\n",
            "       'Location 1635', 'Location 1666', 'Location 1751', 'Location 1783',\n",
            "       'Location 1236', 'Location 1082', 'Location 1009', 'Location 1844',\n",
            "       'Location 1268', 'Location 1809', 'Location 1069', 'Location 1141',\n",
            "       'Location 1918', 'Location 1184', 'Location 2076', 'Location 1188',\n",
            "       'Location 1927', 'Location 1506', 'Location 1896', 'Location 1728',\n",
            "       'Location 1402', 'Location 2010', 'Location 1889', 'Location 1539',\n",
            "       'Location 1886', 'Location 1109', 'Location 1157', 'Location 1509',\n",
            "       'Location 1111', 'Location 1673', 'Location 2048', 'Location 1133',\n",
            "       'Location 1919', 'Location 1534', 'Location 1612', 'Location 1074',\n",
            "       'Location 1709', 'Location 2024', 'Location 1328', 'Location 2036',\n",
            "       'Location 1054', 'Location 1241', 'Location 1278', 'Location 1207',\n",
            "       'Location 1066', 'Location 1018', 'Location 1033', 'Location 1315',\n",
            "       'Location 1248', 'Location 1378', 'Location 1833', 'Location 2085',\n",
            "       'Location 1549', 'Location 1812', 'Location 1174', 'Location 2080',\n",
            "       'Location 1213', 'Location 1475', 'Location 1101', 'Location 1525',\n",
            "       'Location 1129', 'Location 1660', 'Location 1850', 'Location 1898',\n",
            "       'Location 1631', 'Location 1156', 'Location 1336', 'Location 1849',\n",
            "       'Location 1965', 'Location 1975', 'Location 2004', 'Location 1073',\n",
            "       'Location 1707', 'Location 2040', 'Location 1084', 'Location 1780',\n",
            "       'Location 1079', 'Location 1160', 'Location 1399', 'Location 1397',\n",
            "       'Location 2094', 'Location 1973', 'Location 1151', 'Location 1300',\n",
            "       'Location 1721', 'Location 1319', 'Location 1679', 'Location 1581',\n",
            "       'Location 1817', 'Location 1181', 'Location 1746', 'Location 1008',\n",
            "       'Location 1689', 'Location 1841', 'Location 1820', 'Location 1499',\n",
            "       'Location 2043', 'Location 1072', 'Location 1495', 'Location 1442',\n",
            "       'Location 1357', 'Location 1921', 'Location 1355', 'Location 1567',\n",
            "       'Location 1479', 'Location 1324', 'Location 1103', 'Location 1798',\n",
            "       'Location 1789', 'Location 1697', 'Location 1068', 'Location 1696',\n",
            "       'Location 1627', 'Location 1149', 'Location 1989', 'Location 1653',\n",
            "       'Location 1664', 'Location 1083', 'Location 1376', 'Location 1106',\n",
            "       'Location 1446', 'Location 2034', 'Location 1977', 'Location 1427',\n",
            "       'Location 1030', 'Location 1428', 'Location 1961', 'Location 1693',\n",
            "       'Location 1379', 'Location 1458', 'Location 1924', 'Location 1547',\n",
            "       'Location 1605', 'Location 1170', 'Location 1964', 'Location 1742',\n",
            "       'Location 1301', 'Location 1120', 'Location 1606', 'Location 1803',\n",
            "       'Location 1049', 'Location 1417', 'Location 1434', 'Location 1071',\n",
            "       'Location 1293', 'Location 2047', 'Location 1795', 'Location 1614',\n",
            "       'Location 1710', 'Location 1267', 'Location 1875', 'Location 1691',\n",
            "       'Location 1656', 'Location 1260', 'Location 1811', 'Location 1829',\n",
            "       'Location 2057', 'Location 1665', 'Location 1102', 'Location 2019',\n",
            "       'Location 1365', 'Location 1732', 'Location 1367', 'Location 1836',\n",
            "       'Location 1122', 'Location 1337', 'Location 1784', 'Location 1032',\n",
            "       'Location 2045', 'Location 1522', 'Location 1801', 'Location 1996',\n",
            "       'Location 1162', 'Location 1201', 'Location 1988', 'Location 1743',\n",
            "       'Location 1358', 'Location 1175', 'Location 1451', 'Location 1519',\n",
            "       'Location 2058', 'Location 1570', 'Location 1163', 'Location 2079',\n",
            "       'Location 1192', 'Location 1736', 'Location 1729', 'Location 1640',\n",
            "       'Location 2072', 'Location 1244', 'Location 1263', 'Location 1343',\n",
            "       'Location 1198', 'Location 1403', 'Location 1036', 'Location 1316',\n",
            "       'Location 1413', 'Location 1719', 'Location 1551', 'Location 1254',\n",
            "       'Location 1562', 'Location 1153', 'Location 1698', 'Location 1954',\n",
            "       'Location 2088', 'Location 1976', 'Location 1923', 'Location 1804',\n",
            "       'Location 1794', 'Location 1724', 'Location 1459', 'Location 1393',\n",
            "       'Location 1993', 'Location 1753', 'Location 1222', 'Location 1216',\n",
            "       'Location 1139', 'Location 1369', 'Location 1775', 'Location 1717',\n",
            "       'Location 1568', 'Location 1318', 'Location 1546', 'Location 1922',\n",
            "       'Location 1452', 'Location 1911', 'Location 1115', 'Location 1895',\n",
            "       'Location 1856', 'Location 1908', 'Location 1616', 'Location 1760',\n",
            "       'Location 1890', 'Location 1643', 'Location 1994', 'Location 1727',\n",
            "       'Location 1992', 'Location 1557', 'Location 1956', 'Location 1462',\n",
            "       'Location 2000', 'Location 2093', 'Location 1879', 'Location 1555',\n",
            "       'Location 1464', 'Location 1099', 'Location 1950', 'Location 1386',\n",
            "       'Location 2017', 'Location 1564', 'Location 1893', 'Location 1414',\n",
            "       'Location 1377', 'Location 1078', 'Location 1749', 'Location 1398',\n",
            "       'Location 1193', 'Location 1734', 'Location 1704', 'Location 1684',\n",
            "       'Location 1373', 'Location 1768', 'Location 1215', 'Location 1116',\n",
            "       'Location 1978', 'Location 1725', 'Location 1164', 'Location 2066',\n",
            "       'Location 2059', 'Location 1871', 'Location 1277', 'Location 1313',\n",
            "       'Location 1325', 'Location 1572', 'Location 1203', 'Location 1270',\n",
            "       'Location 1604', 'Location 1119', 'Location 1410', 'Location 1930',\n",
            "       'Location 1183', 'Location 1291', 'Location 1463', 'Location 1456',\n",
            "       'Location 1625', 'Location 1563', 'Location 1023', 'Location 1611',\n",
            "       'Location 1169', 'Location 1937', 'Location 1681', 'Location 1540',\n",
            "       'Location 1687', 'Location 1143', 'Location 1613', 'Location 1266',\n",
            "       'Location 1560', 'Location 1380', 'Location 1806', 'Location 1019',\n",
            "       'Location 1269', 'Location 1014', 'Location 1508', 'Location 1688',\n",
            "       'Location 2009', 'Location 1202', 'Location 1388', 'Location 1731',\n",
            "       'Location 1204', 'Location 1902', 'Location 1826', 'Location 1211',\n",
            "       'Location 1477', 'Location 1802', 'Location 1602', 'Location 1396',\n",
            "       'Location 1837', 'Location 1536', 'Location 1880', 'Location 1860',\n",
            "       'Location 1173', 'Location 1490', 'Location 1043', 'Location 1237',\n",
            "       'Location 1769', 'Location 2055', 'Location 1389', 'Location 1455',\n",
            "       'Location 1888', 'Location 1383', 'Location 1960', 'Location 1165',\n",
            "       'Location 1758', 'Location 1909', 'Location 1903', 'Location 1280',\n",
            "       'Location 1740', 'Location 1914', 'Location 2028', 'Location 1628',\n",
            "       'Location 1674', 'Location 1701', 'Location 1790', 'Location 1936',\n",
            "       'Location 1854', 'Location 1779', 'Location 1484', 'Location 2020',\n",
            "       'Location 1061', 'Location 1390', 'Location 1059', 'Location 1333',\n",
            "       'Location 1647', 'Location 2035', 'Location 1065', 'Location 1868',\n",
            "       'Location 2086', 'Location 1340', 'Location 1022', 'Location 1825',\n",
            "       'Location 1905', 'Location 1763', 'Location 1716', 'Location 2015'],\n",
            "      dtype=object)}\n",
            "{'IncidentTime': array([17, 10, 22,  7, 20, 18,  3,  5, 14, 16, 15, 13, 12,  9, 19,  4, 11,\n",
            "        1,  8,  0,  6, 21, 23,  2, -5])}\n",
            "{'NumberOfVehicles': array([3, 1, 4, 2])}\n",
            "{'PropertyDamage': array([nan, 'YES', 'NO'], dtype=object)}\n",
            "{'BodilyInjuries': array([1, 2, 0])}\n",
            "{'Witnesses': array(['0', '1', '3', '2', 'MISSINGVALUE'], dtype=object)}\n",
            "{'PoliceReport': array([nan, 'YES', 'NO'], dtype=object)}\n",
            "{'AmountOfTotalClaim': array(['65501', '61382', '66755', ..., '7262', '74547', '55830'],\n",
            "      dtype=object)}\n",
            "{'AmountOfInjuryClaim': array([13417, 15560, 11630, ...,  6560, 12354, 14699])}\n",
            "{'AmountOfPropertyClaim': array([ 6071,  5919, 11630, ...,  5695,  8750, 13131])}\n",
            "{'AmountOfVehicleDamage': array([46013, 39903, 43495, ..., 47497, 59174, 41183])}\n",
            "{'InsuredAge': array([35, 36, 33, 29, 28, 57, 49, 27, 48, 41, 59, 44, 40, 39, 42, 60, 45,\n",
            "       38, 53, 52, 32, 25, 34, 55, 51, 47, 46, 50, 31, 30, 37, 21, 61, 23,\n",
            "       43, 26, 62, 54, 24, 56, 58, 64, 63, 22, 19, 20])}\n",
            "{'InsuredZipCode': array([454776, 603260, 474848, 457942, 476456, 432896, 466132, 455810,\n",
            "       446544, 618845, 462836, 615383, 608425, 603123, 450889, 601425,\n",
            "       611322, 432781, 617699, 438180, 449793, 430380, 450730, 464665,\n",
            "       438328, 442142, 608117, 465252, 432491, 605258, 431361, 477695,\n",
            "       610706, 612597, 445638, 440961, 617947, 445601, 430232, 478456,\n",
            "       443861, 460801, 605121, 443567, 471806, 465100, 441716, 439787,\n",
            "       610246, 601600, 473394, 616706, 474598, 441726, 473243, 431277,\n",
            "       434206, 605141, 601734, 469895, 437387, 457722, 619108, 610479,\n",
            "       600983, 474998, 460535, 441370, 451470, 620737, 462283, 445904,\n",
            "       449800, 464145, 466818, 615561, 431937, 444500, 601117, 432220,\n",
            "       612664, 616714, 445648, 448857, 431278, 619892, 464652, 613816,\n",
            "       608767, 459889, 620869, 440833, 466303, 476685, 619166, 453719,\n",
            "       472803, 460579, 442308, 469383, 463307, 614383, 438617, 613936,\n",
            "       459407, 472163, 477356, 619884, 615712, 432399, 455672, 444155,\n",
            "       463809, 470610, 465764, 446898, 453274, 479320, 443462, 608525,\n",
            "       447458, 434669, 464743, 609322, 460308, 606177, 468168, 479408,\n",
            "       457555, 468104, 443854, 471366, 470866, 450746, 440720, 459878,\n",
            "       470670, 450368, 442479, 472253, 448809, 469653, 438877, 465631,\n",
            "       432148, 466838, 443920, 448310, 615730, 433155, 616120, 461744,\n",
            "       453148, 470104, 464353, 610302, 466137, 431389, 434733, 436173,\n",
            "       614521, 473638, 444232, 613982, 446174, 606638, 448912, 436984,\n",
            "       443191, 475524, 456600, 469621, 618405, 609930, 430832, 607730,\n",
            "       602304, 469650, 456203, 619794, 602258, 603827, 442210, 465248,\n",
            "       612260, 617460, 479821, 473328, 473329, 620197, 462106, 438215,\n",
            "       444583, 478947, 616884, 463184, 438923, 613826, 604333, 614780,\n",
            "       603381, 446435, 464630, 441871, 431496, 472248, 436499, 614417,\n",
            "       605369, 473935, 448466, 444378, 473591, 618418, 474860, 466161,\n",
            "       450800, 600648, 478703, 479224, 432711, 604874, 475847, 462377,\n",
            "       450184, 437323, 430141, 439502, 439690, 615821, 615218, 435371,\n",
            "       471519, 620757, 609336, 430567, 602177, 603320, 435967, 615901,\n",
            "       468300, 466691, 465921, 474615, 612316, 604555, 616276, 463356,\n",
            "       453407, 455689, 456446, 602289, 445120, 449260, 470577, 604289,\n",
            "       462250, 441648, 436408, 443402, 464230, 440680, 620493, 475391,\n",
            "       433782, 446971, 601177, 612904, 469742, 435534, 442239, 468986,\n",
            "       614166, 617804, 614187, 613399, 436784, 453400, 468470, 449557,\n",
            "       457727, 472573, 613327, 614941, 610989, 439269, 433473, 478486,\n",
            "       466498, 430878, 438584, 448913, 446326, 459630, 439929, 618862,\n",
            "       434150, 605490, 435481, 608807, 603993, 433153, 444797, 477310,\n",
            "       430621, 472236, 602500, 614867, 613945, 432699, 606283, 613119,\n",
            "       612546, 613849, 464874, 615229, 613587, 437818, 472634, 459537,\n",
            "       457234, 474758, 442335, 612102, 478423, 602670, 612506, 454529,\n",
            "       437422, 619470, 618655, 442666, 613931, 606714, 450702, 600418,\n",
            "       603733, 600313, 465136, 464691, 453193, 608963, 454139, 617721,\n",
            "       447560, 431683, 616583, 472475, 476978, 455913, 471786, 431725,\n",
            "       477636, 606249, 616161, 609216, 604952, 441533, 468433, 615220,\n",
            "       452787, 474324, 441298, 442206, 446606, 447976, 440757, 614948,\n",
            "       462767, 471785, 601397, 435489, 468515, 460742, 614169, 450149,\n",
            "       613842, 435632, 439870, 458364, 458997, 604147, 476458, 459562,\n",
            "       458132, 608929, 602433, 469875, 456363, 458582, 478575, 468303,\n",
            "       438546, 451400, 449718, 431104, 432534, 436467, 603948, 463181,\n",
            "       473705, 471614, 465376, 612986, 438775, 441992, 464646, 470510,\n",
            "       604279, 431289, 452597, 616929, 605743, 472895, 468984, 448294,\n",
            "       606606, 444903, 611586, 466612, 609390, 460760, 457843, 453164,\n",
            "       609409, 601961, 468158, 440831, 603848, 617739, 461372, 476130,\n",
            "       452438, 608335, 460517, 444896, 439360, 448722, 437688, 471600,\n",
            "       442632, 431853, 614274, 456781, 441175, 434293, 446158, 608813,\n",
            "       457767, 476315, 475173, 449979, 604681, 466390, 605486, 617883,\n",
            "       464808, 602842, 617970, 457121, 436364, 434982, 468202, 456959,\n",
            "       608405, 456762, 467743, 432405, 469220, 601748, 615921, 618926,\n",
            "       607763, 475891, 472209, 436973, 616767, 471300, 459122, 459429,\n",
            "       473370, 463153, 618498, 453277, 442919, 472135, 449352, 478868,\n",
            "       454985, 607697, 603248, 606858, 431202, 601112, 462698, 469856,\n",
            "       433974, 447469, 466970, 448190, 464959, 443550, 477644, 433981,\n",
            "       433696, 603639, 608177, 437470, 464839, 448984, 430853, 446895,\n",
            "       468767, 440327, 609837, 470603, 609898, 431121, 442695, 467784,\n",
            "       478172, 472223, 604450, 456570, 442604, 451672, 433184, 618929,\n",
            "       454656, 451312, 447442, 474360, 447925, 470117, 600702, 475588,\n",
            "       459298, 441536, 442598, 619620, 430104, 604804, 604377, 600275,\n",
            "       617774, 452748, 442395, 455340, 452747, 608371, 464107, 614233,\n",
            "       464336, 465158, 619735, 470485, 620473, 477678, 461328, 475292,\n",
            "       606238, 446755, 458727, 430987, 612908, 457551, 461275, 432786,\n",
            "       611852, 460675, 466634, 476737, 618123, 453713, 472657, 467762,\n",
            "       614812, 607452, 476185, 611118, 606352, 607605, 451184, 616637,\n",
            "       439534, 431968, 441425, 438237, 468313, 600561, 618632, 435758,\n",
            "       430632, 478661, 435299, 465263, 614385, 473645, 435995, 606487,\n",
            "       607889, 464237, 450341, 433683, 605169, 443344, 444822, 612826,\n",
            "       602416, 441499, 613436, 463291, 477519, 619657, 463993, 441491,\n",
            "       469429, 461418, 620962, 465201, 472214, 478609, 468702, 614945,\n",
            "       476727, 600127, 442540, 608982, 452218, 479913, 601574, 460586,\n",
            "       435100, 473653, 620104, 619540, 454399, 618455, 466283, 471784,\n",
            "       453265, 444922, 460359, 441967, 477346, 438837, 448949, 442936,\n",
            "       477947, 440251, 452216, 441142, 479852, 452249, 477415, 601617,\n",
            "       474731, 434370, 457875, 477268, 453620, 600208, 433853, 459955,\n",
            "       613921, 466238, 477938, 454191, 619570, 611556, 448603, 603882,\n",
            "       610381, 613607, 457793, 463835, 451529, 478981, 617267, 613471,\n",
            "       613583, 616126, 465456, 438529, 463678, 601581, 477856, 457535,\n",
            "       458733, 438830, 457733, 464736, 615767, 615683, 458143, 614265,\n",
            "       608758, 478902, 447274, 467942, 476502, 467780, 618127, 434923,\n",
            "       436711, 469853, 462683, 454552, 620819, 433275, 446788, 444626,\n",
            "       603732, 437944, 450703, 477382, 444558, 468454, 609949, 452701,\n",
            "       607458, 618682, 603195, 451586, 461958, 477670, 472720, 605692,\n",
            "       440837, 432934, 431532, 618316, 432211, 615611, 436547, 452496,\n",
            "       459984, 430714, 613247, 441659, 466201, 615346, 452456, 456602,\n",
            "       466718, 610354, 466959, 603269, 452735, 438178, 473412, 469646,\n",
            "       431354, 457130, 440930, 613178, 462420, 450339, 471704, 440106,\n",
            "       450332, 615226, 604328, 435552, 616341, 458139, 613647, 474792,\n",
            "       605756, 460820, 447750, 465667, 602402, 439964, 612550, 436560,\n",
            "       463842, 470389, 620358, 451280, 462519, 447300, 452942, 441783,\n",
            "       460564, 454176, 607131, 463583, 606219, 452349, 458936, 440865,\n",
            "       450947, 613287, 431531, 441714, 605408, 466393, 614372, 476413,\n",
            "       445853, 474898, 441363, 442866, 606290, 472814, 444734, 448882,\n",
            "       475483, 468872, 474801, 469363, 604668, 468813, 458470, 466289,\n",
            "       462479, 449221, 459322, 465674, 606144, 459295, 439304, 451560,\n",
            "       601848, 442948, 473611, 476198, 608708, 606988, 611651, 619148,\n",
            "       617858, 608331, 455332, 479327, 463331, 456789, 602514, 616164,\n",
            "       451467, 476303, 437580, 452647, 458237, 471453, 466676, 447979,\n",
            "       466191, 471148, 459588, 444913, 460176, 608228, 452204, 604833,\n",
            "       461919, 445339, 468508, 454434, 611723, 619811, 430665, 600754,\n",
            "       460722, 600184, 435985, 433593, 436522, 479655, 607133, 470128,\n",
            "       459428, 475407, 476227, 600904, 478837, 449421, 445856, 617527,\n",
            "       601213, 465979, 457463, 458622, 454480, 602942, 452587, 474167,\n",
            "       610393, 475705, 455365, 478640, 455426, 434247, 430886, 470190,\n",
            "       612660, 609226, 454530, 441671, 604138, 474771, 434342, 600153,\n",
            "       477631, 461514, 477260, 469126, 615688, 609317, 477373, 458993,\n",
            "       615446, 470488, 432218, 465440, 611996, 467227, 615311, 437889,\n",
            "       435518, 446657, 620507, 613114, 435267, 601206, 470826, 473349,\n",
            "       446608, 441923, 462525, 433250, 471585, 438555, 443625, 470559,\n",
            "       609374, 466555, 601701, 454685, 441981, 468634, 473109, 479724,\n",
            "       442797, 471866, 476203, 469438, 464362, 472922, 609458, 473389,\n",
            "       604861, 603527, 472724, 437156, 606942, 470538, 443342, 435809,\n",
            "       444413, 460263, 442389, 479824, 435663, 461264, 455482, 457962,\n",
            "       463271, 475916, 467947, 479134, 618493, 608309, 468176, 443522,\n",
            "       607893, 478532, 478388, 620207, 605220, 461383, 462804, 451550,\n",
            "       465942, 604948, 447188, 460895, 467654, 448436, 608328, 440153,\n",
            "       459504, 468232, 450709])}\n",
            "{'InsuredGender': array(['MALE', 'FEMALE', nan], dtype=object)}\n",
            "{'InsuredEducationLevel': array(['JD', 'High School', 'Masters', 'MD', 'Associate', 'College',\n",
            "       'PhD'], dtype=object)}\n",
            "{'InsuredOccupation': array(['armed-forces', 'tech-support', 'exec-managerial', 'adm-clerical',\n",
            "       'handlers-cleaners', 'craft-repair', 'prof-specialty',\n",
            "       'other-service', 'priv-house-serv', 'protective-serv',\n",
            "       'farming-fishing', 'sales', 'transport-moving',\n",
            "       'machine-op-inspct'], dtype=object)}\n",
            "{'InsuredHobbies': array(['movies', 'cross-fit', 'polo', 'dancing', 'sleeping', 'camping',\n",
            "       'golf', 'paintball', 'base-jumping', 'yachting', 'basketball',\n",
            "       'hiking', 'bungie-jumping', 'exercise', 'board-games', 'reading',\n",
            "       'skydiving', 'video-games', 'kayaking', 'chess'], dtype=object)}\n",
            "{'CapitalGains': array([ 56700,  70600,  66400,  47900,      0,  67400,  56400,  53300,\n",
            "        58100,  30400,  73000,  38700,  69400,  39000,  37800,  51500,\n",
            "        45700,  71300,  48900,  81800,  64800,  66000,  36700,  54900,\n",
            "        90700,  64000,  73700,  38400,  56900,  44900,  63600,  83200,\n",
            "        67900,  55200,  54600,  52800,  83900,  35400,  70900,  67100,\n",
            "        23600,  41300,  78300,  37900,  67800,  36600,  12100,  71200,\n",
            "        33000,  46500,  38000,  53500,  64400,  45500,  54500,  49600,\n",
            "        53000,  34500,  23300,  46700,  36400,  61400,  72700,  36800,\n",
            "        51400,  66300,  55300,  50400,  32800,  46300,  31500,  33500,\n",
            "        72400,  58300,  31000,  41400,  98800,  65000,  42200,  45400,\n",
            "        78800,  49300,  65700,  53200,  30000,  58000,  52300,  81100,\n",
            "        43000,  68400,  57900,  50000,  51100,  37700,  40100,  46000,\n",
            "        71500,  33300,  48500,  33200,  43600,  43700,  49700,  44400,\n",
            "        79900,  50700,  27600,  57800,  55400,  35300,  82100,  55100,\n",
            "        42700,  38900,  40900,  44500,  31400,  26700,  52500,  45100,\n",
            "        14100,  88400,  63100,  83600,  39900,  47600,  66100,  36100,\n",
            "        58600,  28600,  10000,  56600,  61600,  94800,  38200,  52900,\n",
            "        36900,  69100,  40000,  51000,  67600,  44000,  72600,  21200,\n",
            "        26900,  49900,  37300,  62400,  67200,  60200,  35700,  42800,\n",
            "        43400,  59600,  46800,  43300,  43200,  32500,  80900,  56200,\n",
            "        59500, 100500,  34900,  52200,  43100,  51300,  45800,  70500,\n",
            "        54400,  73200,  21500,  77900,  35200,  52700,  59800,  61200,\n",
            "        42900,  52600,  70300,  57700,  42100,  65100,  39600,  30800,\n",
            "        42600,  61900,  64600,  67700,  39300,  67000,  55700,  77500,\n",
            "        59400,  50300,  54000,  35100,  62000,  48200,  49000,  57300,\n",
            "        50500,  34300,  44300,  28800,  47200,  45300,  66900,  38100,\n",
            "        71400,  27000,  72200,  29600,  65600,  68500,  25500,  24400,\n",
            "        41200,  53100,  68700,  27100,  51700,  25000,  46400,  55600,\n",
            "        40700,  54800,  60000,  53900,  84900,  64200,  74200,  68900,\n",
            "        38600,  48100,  69500,  35000,  54100,  67300,  58200,  13100,\n",
            "        57500,  78000,  52000,  57100,  29000,  62500,  25800,  47700,\n",
            "        46100,  30100,  65400,  60100,  62700,  58500,  63900,  47400,\n",
            "        61100,  79600,  69200,  59000,  59300,  41500,  59900,  38500,\n",
            "        20200,  34700,  60400,  11000,  76000,  56800,    800,  17600,\n",
            "        25900,  62800,  34000,  75800,  62200,  24000,  24800,  82200,\n",
            "        39400,  47800,  45000,  27700,  22700,  53800,  40600,  72100,\n",
            "        34200,  58900,  49100,  47500,  12800,  16100,  52100,  65300,\n",
            "        34400,  29300,  91900,  37600,  54700,  42400,  48000,  87800,\n",
            "        42300,  81300,  43900,  75400,  37100,  51600,  45600,  57000,\n",
            "        60700,  30700,  53400,  37500,  48800,  35900,  60300,  31900,\n",
            "        88800,  17300,  73500,  66200,  26500,  51900,  69900,  20000,\n",
            "        44200,  50800,  82600,  21100,  27500,  68600,  28900,  49500,\n",
            "        82400,  61500])}\n",
            "{'CapitalLoss': array([ -48500,  -63700,  -73400,  -41500,       0,  -32800,  -65600,\n",
            "        -53300,  -29200,  -37900,  -41000,  -22400,  -65400,  -56800,\n",
            "        -70300,  -18600,  -62400,  -24300,  -46000,  -62500,  -45300,\n",
            "        -51000,  -72500,  -42700,  -77000,  -57700,  -64700,  -64100,\n",
            "        -45200,  -39700,  -50400,  -39300,  -37100,  -67400,  -52100,\n",
            "        -66000,  -55400,  -45500,  -61100,  -55500,  -50300,  -51200,\n",
            "        -43600,  -72900,  -40800,  -60600,   -8500,  -41200,  -45100,\n",
            "        -28700,  -32600,  -31700,  -54600,  -30400,  -71700,  -49400,\n",
            "        -39100,  -41100,  -68200,  -53700,  -37500,  -40900,  -31000,\n",
            "        -68100,  -75700,  -61500,  -58400,  -53500,  -50600,  -42400,\n",
            "        -55800,  -78600,  -33000,  -49500,  -71200,  -30200,  -53200,\n",
            "        -49200,  -90600,  -56200,  -39400,  -53000,  -34600,  -36500,\n",
            "        -49000,  -55600,  -64000,  -65700,  -53800,  -49900,  -40200,\n",
            "        -38500,  -57000,  -28800,  -26400,  -10600,  -24400,  -55700,\n",
            "        -65200,  -61400,  -24100,  -67800,  -48400,  -60200,  -44600,\n",
            "        -78300,  -71500,  -74400,  -57600,  -40400,  -33800,  -42000,\n",
            "        -48700,  -39800,  -41300,  -40300,  -85900,  -45700,  -64500,\n",
            "        -47200,  -36300,  -59400,  -46500,  -13800,  -35900,  -44000,\n",
            "        -39600,  -59500,  -36000,  -31400,  -47100,  -55000,  -49300,\n",
            "        -45800,  -19700,  -51400,  -61000,  -58500,  -54700,  -55900,\n",
            "        -40000,  -43400,  -20800,  -74800,  -52600,  -33100,  -44500,\n",
            "        -52300,  -15600,  -91200,  -59800,  -66200,  -51500, -111100,\n",
            "        -69600,  -50000,  -58300,  -60000,  -72100,  -31900,  -65300,\n",
            "        -48800,  -79400,  -59100,  -41400,  -42900,  -45000,  -40600,\n",
            "        -72000,  -51900,  -44800,  -44200,  -51800,  -20900,  -70900,\n",
            "        -43500,  -65500,  -82400,  -56100,  -51100,  -90100,  -43700,\n",
            "        -80600,  -36600,  -48600,  -90200,  -70100,  -80800,  -76000,\n",
            "         -5700,  -65800,  -53600,  -63400,  -54000,  -32200,  -82100,\n",
            "        -72300,  -37800,  -58100,  -44400,  -56400,  -69700,  -59700,\n",
            "        -39500,  -47500,  -20400,  -77500,  -43200,  -15900,  -59900,\n",
            "        -34700,  -57500,  -48000,  -35200,  -60500,  -63100,  -68700,\n",
            "        -36200,  -46200,  -56600,  -48300,  -82700,  -38600,  -83200,\n",
            "        -32100,  -36700,  -47300,  -47400,  -66300,  -29900,  -67300,\n",
            "        -54800,  -52900,  -51600,  -72400,   -6300,  -42500,  -47700,\n",
            "        -57900,  -57100,  -38200,  -55100,  -19800,  -93600,  -66500,\n",
            "        -66900,  -75000,  -59300,  -26900,  -77700,  -88300,  -60700,\n",
            "        -81000,  -53100,  -70400,  -49600,  -22200,  -22300,  -68900,\n",
            "        -68800,  -70200,  -42600,  -34800,  -30300,  -32500,  -74200,\n",
            "        -46900,  -38700,  -51300,  -79600,  -38400,  -71400,  -55300,\n",
            "        -39200,  -42100,  -67900,  -58900,  -56900,  -34400,  -33300,\n",
            "        -21500,  -32300,  -77600,  -63900,  -43800,  -74300,  -91400,\n",
            "        -58600,  -64900,  -74500,  -62700,  -29100,  -62100,  -36800,\n",
            "        -54100,  -67000,  -49700,  -66100,  -33600,  -17000,  -61200,\n",
            "        -83900,  -37600,  -63500,  -15700,  -87300,  -47900,  -36400,\n",
            "        -52500,  -64300,  -46800,  -73900,  -27900,  -12100,  -27300,\n",
            "        -66800,  -75100,  -77800,  -13200,  -54300,  -27700,  -30900,\n",
            "        -79800,  -42300,  -41600,  -89400,  -36900,  -27600,  -60400,\n",
            "        -73600,  -46400,  -60300,  -32900,  -19500,  -28300,  -43300,\n",
            "        -81100,  -71000,  -54400,  -30700,  -35500,  -54900,  -71900,\n",
            "        -37000,  -41700,  -42800,  -58700,  -50500,  -60800,  -40700,\n",
            "        -38800,  -24700,  -61600,  -43900])}\n",
            "{'Country': array(['India', nan], dtype=object)}\n",
            "{'InsurancePolicyNumber': array([119121, 119122, 119123, ..., 119117, 119118, 119120])}\n",
            "{'CustomerLoyaltyPeriod': array([ 49, 114, 167, 190, 115, 101, 471, 340,  81, 328, 241, 208, 216,\n",
            "       425, 289, 292, 171, 234, 269, 223, 230, 262, 440, 399, 310, 301,\n",
            "       176, 205, 419, 311, 293,  74, 256, 214, 203, 220, 255, 395, 147,\n",
            "        87, 225, 228, 237,  45, 125, 175, 136,  54,  70, 318, 135, 381,\n",
            "       169, 331, 137, 243,   7, 321, 280, 304, 246, 335, 202, 120, 181,\n",
            "       152, 170,  41, 271,  27, 134, 165, 127, 161, 109, 186, 273,  59,\n",
            "       212, 198, 334, 346, 290, 288, 235, 222, 153, 251, 247, 173, 447,\n",
            "       211, 110, 389, 379, 189,  60, 123, 100,  91,  63, 286, 121, 138,\n",
            "       184, 178, 157,  61, 154, 180, 302,  76, 156, 158, 160, 242, 102,\n",
            "       213, 116, 245, 164, 343, 394, 187, 140,  52, 143, 330, 324, 252,\n",
            "       295, 299, 145, 320, 390, 253, 257, 369,  33,  42, 460, 244, 274,\n",
            "       196, 200, 195, 204, 217, 185, 107, 266, 267, 210, 370, 296, 201,\n",
            "        90,  99, 106, 413, 327, 281, 263,  85, 113, 182, 375, 434,   8,\n",
            "        62,  98,  30,  80, 260, 367, 312, 351, 356, 364, 396, 357, 352,\n",
            "       278, 294, 226, 272, 404,  38, 129,  64, 349, 142, 307, 192, 298,\n",
            "        56, 155,  65, 209, 163, 144, 172, 250, 303, 239, 149, 118, 268,\n",
            "       332, 159, 124, 238, 313, 193, 431,  89, 199, 306, 400,  79, 119,\n",
            "        37, 384, 150, 162, 236, 283, 319, 347, 348,  97, 168, 265, 166,\n",
            "       248, 411, 131, 355, 432, 342, 368,  75,  11,  72, 430, 275, 412,\n",
            "        86, 282, 232, 231,  84, 325, 148,  78, 305, 151,  94, 270, 229,\n",
            "        96, 439, 219, 104, 105, 197, 358, 333, 276, 371, 345, 285,  93,\n",
            "       428, 450, 414, 408, 130,  15, 179, 111, 215, 146, 259,  67, 385,\n",
            "       454, 141, 254, 188, 478,  73, 128, 338,  51, 206, 126, 177, 249,\n",
            "       240, 366, 441, 287, 264, 194, 227, 365, 337, 316,  13, 424,  83,\n",
            "       132, 174, 427,  47, 218,   5, 284, 261, 421,  58, 139,  31, 444,\n",
            "       339,  82, 456, 464, 221, 207,  50, 103, 117,  88, 108,  92, 183,\n",
            "        25,  29,  26, 233, 378, 417, 416, 224,  57, 122, 406, 453, 402,\n",
            "        69, 291, 300,  19, 386, 446, 353,  20, 133, 452, 112,  24, 297,\n",
            "        46,  23,  66, 377,  55,  22,  71, 398, 361, 279, 309, 258, 423,\n",
            "       445, 405, 191, 323, 277, 388,  14,  18, 437, 475, 354,  95,  34,\n",
            "        53,  16, 426, 322, 380, 336, 374,  68, 359,  43, 449,  36, 360,\n",
            "       443, 459, 468,  77,  39, 376,  48, 362, 372,  32, 315, 448, 397,\n",
            "       350, 341, 458, 435, 403,   2, 461, 382, 317,   6, 422, 314, 420,\n",
            "       451, 344, 429, 410, 455, 473,  10, 436, 438, 409,   1, 373,  12,\n",
            "       415, 393,  35,  21,  40, 462, 466, 433, 457, 387, 472, 308, 442,\n",
            "        44,   9, 469,  17, 467, 463, 407, 401, 329,   4, 391, 383, 465,\n",
            "       479, 474, 392,   3,  28, 363, 476, 477, 418, 326, 470])}\n",
            "{'DateOfPolicyCoverage': array(['1998-10-25', '2000-11-15', '2001-02-12', ..., '2008-10-06',\n",
            "       '2001-11-03', '1998-11-03'], dtype=object)}\n",
            "{'InsurancePolicyState': array(['State1', 'State3', 'State2'], dtype=object)}\n",
            "{'Policy_CombinedSingleLimit': array(['100/300', '500/1000', '250/500', '250/1000', '500/300', '500/500',\n",
            "       '100/500', '250/300', '100/1000'], dtype=object)}\n",
            "{'Policy_Deductible': array([1000,  617,  722, ..., 1104, 1509, 1711])}\n",
            "{'PolicyAnnualPremium': array([1632.73, 1255.19, 1373.38, ..., 1276.01, 1380.92,  928.43])}\n",
            "{'UmbrellaLimit': array([      0, 4279863, 3921366, ..., 3448735, 3364301, 2909175])}\n",
            "{'InsuredRelationship': array(['not-in-family', 'wife', 'own-child', 'unmarried', 'husband',\n",
            "       'other-relative'], dtype=object)}\n",
            "{'VehicleAttribute1': array(['VehicleID'], dtype=object)}\n",
            "{'VehicleAttributeDetails1': array(['Vehicle26917', 'Vehicle15893', 'Vehicle5152', ..., 'Vehicle3339',\n",
            "       'Vehicle10240', 'Vehicle39163'], dtype=object)}\n",
            "{'VehicleAttribute2': array(['VehicleModel'], dtype=object)}\n",
            "{'VehicleAttributeDetails2': array(['A5', 'Jetta', 'CRV', 'C300', 'Passat', '92x', 'Ultima', 'Fusion',\n",
            "       'Impreza', '93', 'Highlander', 'X5', 'Accord', 'Corolla',\n",
            "       'Forrestor', 'F150', 'Pathfinder', 'Neon', 'Tahoe', 'Wrangler',\n",
            "       'A3', 'RSX', 'Malibu', 'E400', 'Legacy', '95', 'Grand Cherokee',\n",
            "       'Escape', 'Civic', 'Silverado', 'RAM', 'Camry', 'M5', '3 Series',\n",
            "       'ML350', 'Maxima', 'MDX', 'X6', 'TL'], dtype=object)}\n",
            "{'VehicleAttribute3': array(['VehicleMake'], dtype=object)}\n",
            "{'VehicleAttributeDetails3': array(['Audi', 'Volkswagen', 'Toyota', 'Mercedes', 'Suburu', 'Saab',\n",
            "       'Nissan', 'Ford', 'Accura', 'Dodge', 'Honda', 'Chevrolet', 'Jeep',\n",
            "       'BMW', '???'], dtype=object)}\n",
            "{'VehicleAttribute4': array(['VehicleYOM'], dtype=object)}\n",
            "{'VehicleAttributeDetails4': array(['2008', '2006', '1999', '2003', '2010', '2011', '2000', '1995',\n",
            "       '2004', '2002', '2001', '2005', '1997', '2015', '2012', '2007',\n",
            "       '2014', '1998', '2009', '1996', '2013'], dtype=object)}\n",
            "{'ReportedFraud': array(['N', 'Y'], dtype=object)}\n"
          ]
        }
      ],
      "source": [
        "for x in df.columns :\n",
        "  print({x : (df[x].unique())})"
      ]
    },
    {
      "cell_type": "markdown",
      "metadata": {
        "id": "jEaQIhKC9nqy"
      },
      "source": [
        "Dropping unnecessary features"
      ]
    },
    {
      "cell_type": "code",
      "execution_count": null,
      "metadata": {
        "id": "pPKfqasn8Old"
      },
      "outputs": [],
      "source": [
        "df = df.drop(['CustomerID', 'DateOfIncident', 'IncidentAddress', 'PoliceReport', 'InsuredZipCode', 'InsurancePolicyNumber', 'InsurancePolicyState', 'VehicleAttribute1', 'VehicleAttributeDetails1', 'VehicleAttribute2', 'VehicleAttributeDetails2', 'VehicleAttribute3', 'VehicleAttributeDetails3', 'VehicleAttribute4', 'VehicleAttributeDetails4'], axis = 1)"
      ]
    },
    {
      "cell_type": "code",
      "execution_count": null,
      "metadata": {
        "id": "m0IfF4ih2ZKQ"
      },
      "outputs": [],
      "source": [
        "df['DateOfPolicyCoverage'] = pd.to_datetime(df['DateOfPolicyCoverage']).dt.month"
      ]
    },
    {
      "cell_type": "code",
      "execution_count": null,
      "metadata": {
        "id": "QkH0W6Xy2cqM"
      },
      "outputs": [],
      "source": [
        "df['IncidentState'] = df['IncidentState'].str.replace('State','')\n",
        "df['IncidentCity'] = df['IncidentCity'].str.replace('City','')"
      ]
    },
    {
      "cell_type": "code",
      "execution_count": null,
      "metadata": {
        "id": "XlSCREry3wtI"
      },
      "outputs": [],
      "source": [
        "df['AmountOfTotalClaim'] = df['AmountOfTotalClaim'].replace('MISSEDDATA',0)\n",
        "df['Witnesses'] = df['Witnesses'].replace('MISSINGVALUE',0)"
      ]
    },
    {
      "cell_type": "code",
      "execution_count": null,
      "metadata": {
        "id": "nn5DqqrW6SSp"
      },
      "outputs": [],
      "source": [
        "df[['AmountOfTotalClaim', 'Witnesses']] = df[['AmountOfTotalClaim', 'Witnesses']].astype('int')"
      ]
    },
    {
      "cell_type": "markdown",
      "metadata": {
        "id": "jMmBGpzF9jQA"
      },
      "source": [
        "Handling Missing Values"
      ]
    },
    {
      "cell_type": "code",
      "execution_count": null,
      "metadata": {
        "id": "bvD8QyYJ7puR"
      },
      "outputs": [],
      "source": [
        "df['TypeOfCollission'].fillna(df['TypeOfCollission'].mode()[0], inplace=True)\n",
        "df['PropertyDamage'].fillna(df['PropertyDamage'].mode()[0], inplace=True)\n",
        "df['InsuredGender'].fillna(df['InsuredGender'].mode()[0], inplace=True)\n",
        "df['Country'].fillna(df['Country'].mode()[0], inplace=True)"
      ]
    },
    {
      "cell_type": "code",
      "execution_count": null,
      "metadata": {
        "id": "y3SFoI3n8Y4F",
        "colab": {
          "base_uri": "https://localhost:8080/"
        },
        "outputId": "f295c37f-f447-4041-8fdc-59814b727b74"
      },
      "outputs": [
        {
          "output_type": "stream",
          "name": "stdout",
          "text": [
            "<class 'pandas.core.frame.DataFrame'>\n",
            "Int64Index: 28836 entries, 0 to 28835\n",
            "Data columns (total 31 columns):\n",
            " #   Column                      Non-Null Count  Dtype  \n",
            "---  ------                      --------------  -----  \n",
            " 0   TypeOfIncident              28836 non-null  object \n",
            " 1   TypeOfCollission            28836 non-null  object \n",
            " 2   SeverityOfIncident          28836 non-null  object \n",
            " 3   AuthoritiesContacted        28836 non-null  object \n",
            " 4   IncidentState               28836 non-null  object \n",
            " 5   IncidentCity                28836 non-null  object \n",
            " 6   IncidentTime                28836 non-null  int64  \n",
            " 7   NumberOfVehicles            28836 non-null  int64  \n",
            " 8   PropertyDamage              28836 non-null  object \n",
            " 9   BodilyInjuries              28836 non-null  int64  \n",
            " 10  Witnesses                   28836 non-null  int64  \n",
            " 11  AmountOfTotalClaim          28836 non-null  int64  \n",
            " 12  AmountOfInjuryClaim         28836 non-null  int64  \n",
            " 13  AmountOfPropertyClaim       28836 non-null  int64  \n",
            " 14  AmountOfVehicleDamage       28836 non-null  int64  \n",
            " 15  InsuredAge                  28836 non-null  int64  \n",
            " 16  InsuredGender               28836 non-null  object \n",
            " 17  InsuredEducationLevel       28836 non-null  object \n",
            " 18  InsuredOccupation           28836 non-null  object \n",
            " 19  InsuredHobbies              28836 non-null  object \n",
            " 20  CapitalGains                28836 non-null  int64  \n",
            " 21  CapitalLoss                 28836 non-null  int64  \n",
            " 22  Country                     28836 non-null  object \n",
            " 23  CustomerLoyaltyPeriod       28836 non-null  int64  \n",
            " 24  DateOfPolicyCoverage        28836 non-null  int64  \n",
            " 25  Policy_CombinedSingleLimit  28836 non-null  object \n",
            " 26  Policy_Deductible           28836 non-null  int64  \n",
            " 27  PolicyAnnualPremium         28836 non-null  float64\n",
            " 28  UmbrellaLimit               28836 non-null  int64  \n",
            " 29  InsuredRelationship         28836 non-null  object \n",
            " 30  ReportedFraud               28836 non-null  object \n",
            "dtypes: float64(1), int64(15), object(15)\n",
            "memory usage: 7.0+ MB\n"
          ]
        }
      ],
      "source": [
        "df.info()"
      ]
    },
    {
      "cell_type": "code",
      "execution_count": null,
      "metadata": {
        "id": "rGmU8GFa9IcE",
        "colab": {
          "base_uri": "https://localhost:8080/"
        },
        "outputId": "3d0bbea9-5901-470d-8f5d-b92175c8749c"
      },
      "outputs": [
        {
          "output_type": "execute_result",
          "data": {
            "text/plain": [
              "(28836, 31)"
            ]
          },
          "metadata": {},
          "execution_count": 38
        }
      ],
      "source": [
        "df.shape"
      ]
    },
    {
      "cell_type": "code",
      "execution_count": null,
      "metadata": {
        "id": "KIUC1m1Y9Kew"
      },
      "outputs": [],
      "source": [
        "X = df.iloc[:, : -1]\n",
        "Y = df.iloc[:, -1]"
      ]
    },
    {
      "cell_type": "markdown",
      "source": [
        "# Data Analysis"
      ],
      "metadata": {
        "id": "9UV3DeT_EWq3"
      }
    },
    {
      "cell_type": "code",
      "source": [
        "# Check the distribution of Target variable to see if it's a case of unbalanced class\n",
        "print(df[\"ReportedFraud\"].value_counts())\n",
        "names = df[\"ReportedFraud\"].unique()\n",
        "values = df[\"ReportedFraud\"].value_counts()\n",
        "fig = px.pie(names = names, values= values, title=col.upper(), width = 400, height = 400, hole = 0.3)\n",
        "fig.show()"
      ],
      "metadata": {
        "id": "aljqmpzWEWVS",
        "colab": {
          "base_uri": "https://localhost:8080/",
          "height": 468
        },
        "outputId": "4fc8e8ea-319a-455b-e689-cec0f73a3667"
      },
      "execution_count": null,
      "outputs": [
        {
          "output_type": "stream",
          "name": "stdout",
          "text": [
            "N    21051\n",
            "Y     7785\n",
            "Name: ReportedFraud, dtype: int64\n"
          ]
        },
        {
          "output_type": "display_data",
          "data": {
            "text/html": [
              "<html>\n",
              "<head><meta charset=\"utf-8\" /></head>\n",
              "<body>\n",
              "    <div>            <script src=\"https://cdnjs.cloudflare.com/ajax/libs/mathjax/2.7.5/MathJax.js?config=TeX-AMS-MML_SVG\"></script><script type=\"text/javascript\">if (window.MathJax) {MathJax.Hub.Config({SVG: {font: \"STIX-Web\"}});}</script>                <script type=\"text/javascript\">window.PlotlyConfig = {MathJaxConfig: 'local'};</script>\n",
              "        <script src=\"https://cdn.plot.ly/plotly-2.8.3.min.js\"></script>                <div id=\"014ada3c-ae2d-470f-8bc2-79ee00bc07c9\" class=\"plotly-graph-div\" style=\"height:400px; width:400px;\"></div>            <script type=\"text/javascript\">                                    window.PLOTLYENV=window.PLOTLYENV || {};                                    if (document.getElementById(\"014ada3c-ae2d-470f-8bc2-79ee00bc07c9\")) {                    Plotly.newPlot(                        \"014ada3c-ae2d-470f-8bc2-79ee00bc07c9\",                        [{\"domain\":{\"x\":[0.0,1.0],\"y\":[0.0,1.0]},\"hole\":0.3,\"hovertemplate\":\"label=%{label}<br>value=%{value}<extra></extra>\",\"labels\":[\"N\",\"Y\"],\"legendgroup\":\"\",\"name\":\"\",\"showlegend\":true,\"values\":[21051,7785],\"type\":\"pie\"}],                        {\"template\":{\"data\":{\"bar\":[{\"error_x\":{\"color\":\"#2a3f5f\"},\"error_y\":{\"color\":\"#2a3f5f\"},\"marker\":{\"line\":{\"color\":\"#E5ECF6\",\"width\":0.5},\"pattern\":{\"fillmode\":\"overlay\",\"size\":10,\"solidity\":0.2}},\"type\":\"bar\"}],\"barpolar\":[{\"marker\":{\"line\":{\"color\":\"#E5ECF6\",\"width\":0.5},\"pattern\":{\"fillmode\":\"overlay\",\"size\":10,\"solidity\":0.2}},\"type\":\"barpolar\"}],\"carpet\":[{\"aaxis\":{\"endlinecolor\":\"#2a3f5f\",\"gridcolor\":\"white\",\"linecolor\":\"white\",\"minorgridcolor\":\"white\",\"startlinecolor\":\"#2a3f5f\"},\"baxis\":{\"endlinecolor\":\"#2a3f5f\",\"gridcolor\":\"white\",\"linecolor\":\"white\",\"minorgridcolor\":\"white\",\"startlinecolor\":\"#2a3f5f\"},\"type\":\"carpet\"}],\"choropleth\":[{\"colorbar\":{\"outlinewidth\":0,\"ticks\":\"\"},\"type\":\"choropleth\"}],\"contour\":[{\"colorbar\":{\"outlinewidth\":0,\"ticks\":\"\"},\"colorscale\":[[0.0,\"#0d0887\"],[0.1111111111111111,\"#46039f\"],[0.2222222222222222,\"#7201a8\"],[0.3333333333333333,\"#9c179e\"],[0.4444444444444444,\"#bd3786\"],[0.5555555555555556,\"#d8576b\"],[0.6666666666666666,\"#ed7953\"],[0.7777777777777778,\"#fb9f3a\"],[0.8888888888888888,\"#fdca26\"],[1.0,\"#f0f921\"]],\"type\":\"contour\"}],\"contourcarpet\":[{\"colorbar\":{\"outlinewidth\":0,\"ticks\":\"\"},\"type\":\"contourcarpet\"}],\"heatmap\":[{\"colorbar\":{\"outlinewidth\":0,\"ticks\":\"\"},\"colorscale\":[[0.0,\"#0d0887\"],[0.1111111111111111,\"#46039f\"],[0.2222222222222222,\"#7201a8\"],[0.3333333333333333,\"#9c179e\"],[0.4444444444444444,\"#bd3786\"],[0.5555555555555556,\"#d8576b\"],[0.6666666666666666,\"#ed7953\"],[0.7777777777777778,\"#fb9f3a\"],[0.8888888888888888,\"#fdca26\"],[1.0,\"#f0f921\"]],\"type\":\"heatmap\"}],\"heatmapgl\":[{\"colorbar\":{\"outlinewidth\":0,\"ticks\":\"\"},\"colorscale\":[[0.0,\"#0d0887\"],[0.1111111111111111,\"#46039f\"],[0.2222222222222222,\"#7201a8\"],[0.3333333333333333,\"#9c179e\"],[0.4444444444444444,\"#bd3786\"],[0.5555555555555556,\"#d8576b\"],[0.6666666666666666,\"#ed7953\"],[0.7777777777777778,\"#fb9f3a\"],[0.8888888888888888,\"#fdca26\"],[1.0,\"#f0f921\"]],\"type\":\"heatmapgl\"}],\"histogram\":[{\"marker\":{\"pattern\":{\"fillmode\":\"overlay\",\"size\":10,\"solidity\":0.2}},\"type\":\"histogram\"}],\"histogram2d\":[{\"colorbar\":{\"outlinewidth\":0,\"ticks\":\"\"},\"colorscale\":[[0.0,\"#0d0887\"],[0.1111111111111111,\"#46039f\"],[0.2222222222222222,\"#7201a8\"],[0.3333333333333333,\"#9c179e\"],[0.4444444444444444,\"#bd3786\"],[0.5555555555555556,\"#d8576b\"],[0.6666666666666666,\"#ed7953\"],[0.7777777777777778,\"#fb9f3a\"],[0.8888888888888888,\"#fdca26\"],[1.0,\"#f0f921\"]],\"type\":\"histogram2d\"}],\"histogram2dcontour\":[{\"colorbar\":{\"outlinewidth\":0,\"ticks\":\"\"},\"colorscale\":[[0.0,\"#0d0887\"],[0.1111111111111111,\"#46039f\"],[0.2222222222222222,\"#7201a8\"],[0.3333333333333333,\"#9c179e\"],[0.4444444444444444,\"#bd3786\"],[0.5555555555555556,\"#d8576b\"],[0.6666666666666666,\"#ed7953\"],[0.7777777777777778,\"#fb9f3a\"],[0.8888888888888888,\"#fdca26\"],[1.0,\"#f0f921\"]],\"type\":\"histogram2dcontour\"}],\"mesh3d\":[{\"colorbar\":{\"outlinewidth\":0,\"ticks\":\"\"},\"type\":\"mesh3d\"}],\"parcoords\":[{\"line\":{\"colorbar\":{\"outlinewidth\":0,\"ticks\":\"\"}},\"type\":\"parcoords\"}],\"pie\":[{\"automargin\":true,\"type\":\"pie\"}],\"scatter\":[{\"marker\":{\"colorbar\":{\"outlinewidth\":0,\"ticks\":\"\"}},\"type\":\"scatter\"}],\"scatter3d\":[{\"line\":{\"colorbar\":{\"outlinewidth\":0,\"ticks\":\"\"}},\"marker\":{\"colorbar\":{\"outlinewidth\":0,\"ticks\":\"\"}},\"type\":\"scatter3d\"}],\"scattercarpet\":[{\"marker\":{\"colorbar\":{\"outlinewidth\":0,\"ticks\":\"\"}},\"type\":\"scattercarpet\"}],\"scattergeo\":[{\"marker\":{\"colorbar\":{\"outlinewidth\":0,\"ticks\":\"\"}},\"type\":\"scattergeo\"}],\"scattergl\":[{\"marker\":{\"colorbar\":{\"outlinewidth\":0,\"ticks\":\"\"}},\"type\":\"scattergl\"}],\"scattermapbox\":[{\"marker\":{\"colorbar\":{\"outlinewidth\":0,\"ticks\":\"\"}},\"type\":\"scattermapbox\"}],\"scatterpolar\":[{\"marker\":{\"colorbar\":{\"outlinewidth\":0,\"ticks\":\"\"}},\"type\":\"scatterpolar\"}],\"scatterpolargl\":[{\"marker\":{\"colorbar\":{\"outlinewidth\":0,\"ticks\":\"\"}},\"type\":\"scatterpolargl\"}],\"scatterternary\":[{\"marker\":{\"colorbar\":{\"outlinewidth\":0,\"ticks\":\"\"}},\"type\":\"scatterternary\"}],\"surface\":[{\"colorbar\":{\"outlinewidth\":0,\"ticks\":\"\"},\"colorscale\":[[0.0,\"#0d0887\"],[0.1111111111111111,\"#46039f\"],[0.2222222222222222,\"#7201a8\"],[0.3333333333333333,\"#9c179e\"],[0.4444444444444444,\"#bd3786\"],[0.5555555555555556,\"#d8576b\"],[0.6666666666666666,\"#ed7953\"],[0.7777777777777778,\"#fb9f3a\"],[0.8888888888888888,\"#fdca26\"],[1.0,\"#f0f921\"]],\"type\":\"surface\"}],\"table\":[{\"cells\":{\"fill\":{\"color\":\"#EBF0F8\"},\"line\":{\"color\":\"white\"}},\"header\":{\"fill\":{\"color\":\"#C8D4E3\"},\"line\":{\"color\":\"white\"}},\"type\":\"table\"}]},\"layout\":{\"annotationdefaults\":{\"arrowcolor\":\"#2a3f5f\",\"arrowhead\":0,\"arrowwidth\":1},\"autotypenumbers\":\"strict\",\"coloraxis\":{\"colorbar\":{\"outlinewidth\":0,\"ticks\":\"\"}},\"colorscale\":{\"diverging\":[[0,\"#8e0152\"],[0.1,\"#c51b7d\"],[0.2,\"#de77ae\"],[0.3,\"#f1b6da\"],[0.4,\"#fde0ef\"],[0.5,\"#f7f7f7\"],[0.6,\"#e6f5d0\"],[0.7,\"#b8e186\"],[0.8,\"#7fbc41\"],[0.9,\"#4d9221\"],[1,\"#276419\"]],\"sequential\":[[0.0,\"#0d0887\"],[0.1111111111111111,\"#46039f\"],[0.2222222222222222,\"#7201a8\"],[0.3333333333333333,\"#9c179e\"],[0.4444444444444444,\"#bd3786\"],[0.5555555555555556,\"#d8576b\"],[0.6666666666666666,\"#ed7953\"],[0.7777777777777778,\"#fb9f3a\"],[0.8888888888888888,\"#fdca26\"],[1.0,\"#f0f921\"]],\"sequentialminus\":[[0.0,\"#0d0887\"],[0.1111111111111111,\"#46039f\"],[0.2222222222222222,\"#7201a8\"],[0.3333333333333333,\"#9c179e\"],[0.4444444444444444,\"#bd3786\"],[0.5555555555555556,\"#d8576b\"],[0.6666666666666666,\"#ed7953\"],[0.7777777777777778,\"#fb9f3a\"],[0.8888888888888888,\"#fdca26\"],[1.0,\"#f0f921\"]]},\"colorway\":[\"#636efa\",\"#EF553B\",\"#00cc96\",\"#ab63fa\",\"#FFA15A\",\"#19d3f3\",\"#FF6692\",\"#B6E880\",\"#FF97FF\",\"#FECB52\"],\"font\":{\"color\":\"#2a3f5f\"},\"geo\":{\"bgcolor\":\"white\",\"lakecolor\":\"white\",\"landcolor\":\"#E5ECF6\",\"showlakes\":true,\"showland\":true,\"subunitcolor\":\"white\"},\"hoverlabel\":{\"align\":\"left\"},\"hovermode\":\"closest\",\"mapbox\":{\"style\":\"light\"},\"paper_bgcolor\":\"white\",\"plot_bgcolor\":\"#E5ECF6\",\"polar\":{\"angularaxis\":{\"gridcolor\":\"white\",\"linecolor\":\"white\",\"ticks\":\"\"},\"bgcolor\":\"#E5ECF6\",\"radialaxis\":{\"gridcolor\":\"white\",\"linecolor\":\"white\",\"ticks\":\"\"}},\"scene\":{\"xaxis\":{\"backgroundcolor\":\"#E5ECF6\",\"gridcolor\":\"white\",\"gridwidth\":2,\"linecolor\":\"white\",\"showbackground\":true,\"ticks\":\"\",\"zerolinecolor\":\"white\"},\"yaxis\":{\"backgroundcolor\":\"#E5ECF6\",\"gridcolor\":\"white\",\"gridwidth\":2,\"linecolor\":\"white\",\"showbackground\":true,\"ticks\":\"\",\"zerolinecolor\":\"white\"},\"zaxis\":{\"backgroundcolor\":\"#E5ECF6\",\"gridcolor\":\"white\",\"gridwidth\":2,\"linecolor\":\"white\",\"showbackground\":true,\"ticks\":\"\",\"zerolinecolor\":\"white\"}},\"shapedefaults\":{\"line\":{\"color\":\"#2a3f5f\"}},\"ternary\":{\"aaxis\":{\"gridcolor\":\"white\",\"linecolor\":\"white\",\"ticks\":\"\"},\"baxis\":{\"gridcolor\":\"white\",\"linecolor\":\"white\",\"ticks\":\"\"},\"bgcolor\":\"#E5ECF6\",\"caxis\":{\"gridcolor\":\"white\",\"linecolor\":\"white\",\"ticks\":\"\"}},\"title\":{\"x\":0.05},\"xaxis\":{\"automargin\":true,\"gridcolor\":\"white\",\"linecolor\":\"white\",\"ticks\":\"\",\"title\":{\"standoff\":15},\"zerolinecolor\":\"white\",\"zerolinewidth\":2},\"yaxis\":{\"automargin\":true,\"gridcolor\":\"white\",\"linecolor\":\"white\",\"ticks\":\"\",\"title\":{\"standoff\":15},\"zerolinecolor\":\"white\",\"zerolinewidth\":2}}},\"legend\":{\"tracegroupgap\":0},\"title\":{\"text\":\"REPORTEDFRAUD\"},\"height\":400,\"width\":400},                        {\"responsive\": true}                    ).then(function(){\n",
              "                            \n",
              "var gd = document.getElementById('014ada3c-ae2d-470f-8bc2-79ee00bc07c9');\n",
              "var x = new MutationObserver(function (mutations, observer) {{\n",
              "        var display = window.getComputedStyle(gd).display;\n",
              "        if (!display || display === 'none') {{\n",
              "            console.log([gd, 'removed!']);\n",
              "            Plotly.purge(gd);\n",
              "            observer.disconnect();\n",
              "        }}\n",
              "}});\n",
              "\n",
              "// Listen for the removal of the full notebook cells\n",
              "var notebookContainer = gd.closest('#notebook-container');\n",
              "if (notebookContainer) {{\n",
              "    x.observe(notebookContainer, {childList: true});\n",
              "}}\n",
              "\n",
              "// Listen for the clearing of the current output cell\n",
              "var outputEl = gd.closest('.output');\n",
              "if (outputEl) {{\n",
              "    x.observe(outputEl, {childList: true});\n",
              "}}\n",
              "\n",
              "                        })                };                            </script>        </div>\n",
              "</body>\n",
              "</html>"
            ]
          },
          "metadata": {}
        }
      ]
    },
    {
      "cell_type": "code",
      "source": [
        "# Converting the object into Category\n",
        "cat_cols = df.select_dtypes(include='object').columns\n",
        "for col in cat_cols:\n",
        "    df[col] = df[col].astype('category')"
      ],
      "metadata": {
        "id": "3VZebUWCFZ0V"
      },
      "execution_count": null,
      "outputs": []
    },
    {
      "cell_type": "code",
      "source": [
        "df.info()"
      ],
      "metadata": {
        "id": "jxH0fCgxF0gn",
        "colab": {
          "base_uri": "https://localhost:8080/"
        },
        "outputId": "82521f2a-07f8-4809-dc50-59dd3b5c31af"
      },
      "execution_count": null,
      "outputs": [
        {
          "output_type": "stream",
          "name": "stdout",
          "text": [
            "<class 'pandas.core.frame.DataFrame'>\n",
            "Int64Index: 28836 entries, 0 to 28835\n",
            "Data columns (total 31 columns):\n",
            " #   Column                      Non-Null Count  Dtype   \n",
            "---  ------                      --------------  -----   \n",
            " 0   TypeOfIncident              28836 non-null  category\n",
            " 1   TypeOfCollission            28836 non-null  category\n",
            " 2   SeverityOfIncident          28836 non-null  category\n",
            " 3   AuthoritiesContacted        28836 non-null  category\n",
            " 4   IncidentState               28836 non-null  category\n",
            " 5   IncidentCity                28836 non-null  category\n",
            " 6   IncidentTime                28836 non-null  int64   \n",
            " 7   NumberOfVehicles            28836 non-null  int64   \n",
            " 8   PropertyDamage              28836 non-null  category\n",
            " 9   BodilyInjuries              28836 non-null  int64   \n",
            " 10  Witnesses                   28836 non-null  int64   \n",
            " 11  AmountOfTotalClaim          28836 non-null  int64   \n",
            " 12  AmountOfInjuryClaim         28836 non-null  int64   \n",
            " 13  AmountOfPropertyClaim       28836 non-null  int64   \n",
            " 14  AmountOfVehicleDamage       28836 non-null  int64   \n",
            " 15  InsuredAge                  28836 non-null  int64   \n",
            " 16  InsuredGender               28836 non-null  category\n",
            " 17  InsuredEducationLevel       28836 non-null  category\n",
            " 18  InsuredOccupation           28836 non-null  category\n",
            " 19  InsuredHobbies              28836 non-null  category\n",
            " 20  CapitalGains                28836 non-null  int64   \n",
            " 21  CapitalLoss                 28836 non-null  int64   \n",
            " 22  Country                     28836 non-null  category\n",
            " 23  CustomerLoyaltyPeriod       28836 non-null  int64   \n",
            " 24  DateOfPolicyCoverage        28836 non-null  int64   \n",
            " 25  Policy_CombinedSingleLimit  28836 non-null  category\n",
            " 26  Policy_Deductible           28836 non-null  int64   \n",
            " 27  PolicyAnnualPremium         28836 non-null  float64 \n",
            " 28  UmbrellaLimit               28836 non-null  int64   \n",
            " 29  InsuredRelationship         28836 non-null  category\n",
            " 30  ReportedFraud               28836 non-null  category\n",
            "dtypes: category(15), float64(1), int64(15)\n",
            "memory usage: 4.2 MB\n"
          ]
        }
      ]
    },
    {
      "cell_type": "code",
      "source": [
        "cat_cols = ['TypeOfIncident', 'TypeOfCollission', 'SeverityOfIncident', 'AuthoritiesContacted', 'IncidentState', 'IncidentCity', 'PropertyDamage', 'InsuredGender', 'InsuredEducationLevel', 'InsuredOccupation', 'InsuredHobbies', 'Country', 'Policy_CombinedSingleLimit', 'InsuredRelationship']"
      ],
      "metadata": {
        "id": "r1d7DXmcVmIl"
      },
      "execution_count": null,
      "outputs": []
    },
    {
      "cell_type": "code",
      "source": [
        "num_cols = ['IncidentTime', 'NumberOfVehicles', 'BodilyInjuries', 'Witnesses', 'AmountOfTotalClaim', 'AmountOfInjuryClaim', 'AmountOfPropertyClaim', 'AmountOfVehicleDamage', 'InsuredAge', 'CapitalGains', 'CapitalLoss', 'CustomerLoyaltyPeriod', 'DateOfPolicyCoverage', 'Policy_Deductible', 'PolicyAnnualPremium', 'UmbrellaLimit']"
      ],
      "metadata": {
        "id": "j17RzY3ByfrX"
      },
      "execution_count": null,
      "outputs": []
    },
    {
      "cell_type": "markdown",
      "source": [
        "Train, Test, Split"
      ],
      "metadata": {
        "id": "DCZQKAmH11ZF"
      }
    },
    {
      "cell_type": "code",
      "source": [
        "from sklearn.model_selection import train_test_split\n",
        "X_train, X_test, Y_train, Y_test = train_test_split(X, Y, test_size=0.30, random_state = 0)"
      ],
      "metadata": {
        "id": "EkQeaCi10RKY"
      },
      "execution_count": null,
      "outputs": []
    },
    {
      "cell_type": "code",
      "source": [
        "print(X_train.shape)\n",
        "print(X_test.shape)\n",
        "print(Y_train.shape)\n",
        "print(Y_test.shape)"
      ],
      "metadata": {
        "colab": {
          "base_uri": "https://localhost:8080/"
        },
        "id": "JQTBswv902bA",
        "outputId": "031b5152-b948-4521-8ae5-a34c8dd5b56a"
      },
      "execution_count": null,
      "outputs": [
        {
          "output_type": "stream",
          "name": "stdout",
          "text": [
            "(20185, 30)\n",
            "(8651, 30)\n",
            "(20185,)\n",
            "(8651,)\n"
          ]
        }
      ]
    },
    {
      "cell_type": "code",
      "source": [
        "Y_train.value_counts(normalize=True)*100"
      ],
      "metadata": {
        "colab": {
          "base_uri": "https://localhost:8080/"
        },
        "id": "dv16ysVe09-0",
        "outputId": "23c61ae5-615f-48ad-9b1d-434e5210217b"
      },
      "execution_count": null,
      "outputs": [
        {
          "output_type": "execute_result",
          "data": {
            "text/plain": [
              "N    72.836265\n",
              "Y    27.163735\n",
              "Name: ReportedFraud, dtype: float64"
            ]
          },
          "metadata": {},
          "execution_count": 47
        }
      ]
    },
    {
      "cell_type": "code",
      "source": [
        "Y_test.value_counts(normalize=True)*100"
      ],
      "metadata": {
        "colab": {
          "base_uri": "https://localhost:8080/"
        },
        "id": "eW9bt-kT1DGN",
        "outputId": "d6642c72-8ca1-43d3-9b1a-de15270ccf3e"
      },
      "execution_count": null,
      "outputs": [
        {
          "output_type": "execute_result",
          "data": {
            "text/plain": [
              "N    73.390359\n",
              "Y    26.609641\n",
              "Name: ReportedFraud, dtype: float64"
            ]
          },
          "metadata": {},
          "execution_count": 48
        }
      ]
    },
    {
      "cell_type": "code",
      "source": [
        "df_cat_train = X_train[cat_cols]\n",
        "df_cat_test = X_test[cat_cols]\n",
        "print(df_cat_train.shape)\n",
        "print(df_cat_test.shape)"
      ],
      "metadata": {
        "colab": {
          "base_uri": "https://localhost:8080/"
        },
        "id": "wfoueQpf1Jkr",
        "outputId": "36455492-704a-43b8-973c-d27c5d4334ab"
      },
      "execution_count": null,
      "outputs": [
        {
          "output_type": "stream",
          "name": "stdout",
          "text": [
            "(20185, 14)\n",
            "(8651, 14)\n"
          ]
        }
      ]
    },
    {
      "cell_type": "code",
      "source": [
        "df_num_train = X_train[num_cols]\n",
        "df_num_test = X_test[num_cols]\n",
        "print(df_num_train.shape)\n",
        "print(df_num_test.shape)"
      ],
      "metadata": {
        "colab": {
          "base_uri": "https://localhost:8080/"
        },
        "id": "am0iiAID1o7Z",
        "outputId": "a56f9427-c4ac-4193-ecd4-387300fddef3"
      },
      "execution_count": null,
      "outputs": [
        {
          "output_type": "stream",
          "name": "stdout",
          "text": [
            "(20185, 16)\n",
            "(8651, 16)\n"
          ]
        }
      ]
    },
    {
      "cell_type": "markdown",
      "source": [
        "Converting Categorical data to numeric data"
      ],
      "metadata": {
        "id": "hh6WZ5pG25kJ"
      }
    },
    {
      "cell_type": "code",
      "source": [
        "from sklearn.preprocessing import OneHotEncoder\n",
        "ohe = OneHotEncoder(handle_unknown='ignore')\n",
        "ohe.fit(df_cat_train)\n",
        "\n",
        "df_cat_train_ohe = ohe.transform(df_cat_train).toarray()\n",
        "df_cat_test_ohe = ohe.transform(df_cat_test).toarray()"
      ],
      "metadata": {
        "id": "I6cc355c21sr"
      },
      "execution_count": null,
      "outputs": []
    },
    {
      "cell_type": "code",
      "source": [
        "print(df_cat_train_ohe.shape)\n",
        "print(df_cat_test_ohe.shape)"
      ],
      "metadata": {
        "colab": {
          "base_uri": "https://localhost:8080/"
        },
        "id": "adNkiJPOHeP3",
        "outputId": "edf402f6-a339-4124-d65f-79ea19e63401"
      },
      "execution_count": null,
      "outputs": [
        {
          "output_type": "stream",
          "name": "stdout",
          "text": [
            "(20185, 91)\n",
            "(8651, 91)\n"
          ]
        }
      ]
    },
    {
      "cell_type": "code",
      "source": [
        "from sklearn.preprocessing import StandardScaler\n",
        "scaler = StandardScaler()\n",
        "scaler.fit(df_num_train)\n",
        "df_num_train_ss = scaler.transform(df_num_train)\n",
        "df_num_test_ss = scaler.transform(df_num_test)"
      ],
      "metadata": {
        "id": "9wMZZsunHnAj"
      },
      "execution_count": null,
      "outputs": []
    },
    {
      "cell_type": "code",
      "source": [
        "print(df_num_train_ss.shape)\n",
        "print(df_num_test_ss.shape)"
      ],
      "metadata": {
        "colab": {
          "base_uri": "https://localhost:8080/"
        },
        "id": "1T2g5GIeIDHM",
        "outputId": "6faf6f26-d8e3-46cf-8d94-d17a977de12a"
      },
      "execution_count": null,
      "outputs": [
        {
          "output_type": "stream",
          "name": "stdout",
          "text": [
            "(20185, 16)\n",
            "(8651, 16)\n"
          ]
        }
      ]
    },
    {
      "cell_type": "code",
      "source": [
        "X_train = np.concatenate([df_cat_train_ohe, df_num_train_ss], axis=1)\n",
        "X_test = np.concatenate([df_cat_test_ohe, df_num_test_ss], axis=1)"
      ],
      "metadata": {
        "id": "OvAK5wd4IJ7e"
      },
      "execution_count": null,
      "outputs": []
    },
    {
      "cell_type": "markdown",
      "source": [
        "Logistic Regression"
      ],
      "metadata": {
        "id": "DxSYFlZDI0L2"
      }
    },
    {
      "cell_type": "code",
      "source": [
        "from sklearn.linear_model import LogisticRegression\n",
        "lr = LogisticRegression()\n",
        "lr.fit(X_train, Y_train)"
      ],
      "metadata": {
        "colab": {
          "base_uri": "https://localhost:8080/"
        },
        "id": "e2oC1kkIIz5e",
        "outputId": "fb151ca2-f100-4c50-bba3-f0f6d018d671"
      },
      "execution_count": null,
      "outputs": [
        {
          "output_type": "stream",
          "name": "stderr",
          "text": [
            "/usr/local/lib/python3.7/dist-packages/sklearn/linear_model/_logistic.py:818: ConvergenceWarning:\n",
            "\n",
            "lbfgs failed to converge (status=1):\n",
            "STOP: TOTAL NO. of ITERATIONS REACHED LIMIT.\n",
            "\n",
            "Increase the number of iterations (max_iter) or scale the data as shown in:\n",
            "    https://scikit-learn.org/stable/modules/preprocessing.html\n",
            "Please also refer to the documentation for alternative solver options:\n",
            "    https://scikit-learn.org/stable/modules/linear_model.html#logistic-regression\n",
            "\n"
          ]
        },
        {
          "output_type": "execute_result",
          "data": {
            "text/plain": [
              "LogisticRegression()"
            ]
          },
          "metadata": {},
          "execution_count": 56
        }
      ]
    },
    {
      "cell_type": "code",
      "source": [
        "lr_train_pred = lr.predict(X_train)\n",
        "lr_train_predScore = lr.score(X_train, Y_train)\n",
        "lr_train_predScore"
      ],
      "metadata": {
        "colab": {
          "base_uri": "https://localhost:8080/"
        },
        "id": "xtqph7MmIh2w",
        "outputId": "50c03cdb-37c4-4fb5-ad76-ef8721c6ee6e"
      },
      "execution_count": null,
      "outputs": [
        {
          "output_type": "execute_result",
          "data": {
            "text/plain": [
              "0.8396333911320287"
            ]
          },
          "metadata": {},
          "execution_count": 57
        }
      ]
    },
    {
      "cell_type": "code",
      "source": [
        "lr_test_pred = lr.predict(X_test)\n",
        "lr_test_predScore = lr.score(X_test, Y_test)\n",
        "lr_test_predScore"
      ],
      "metadata": {
        "colab": {
          "base_uri": "https://localhost:8080/"
        },
        "id": "baaP_YYGJlyb",
        "outputId": "7f9ae682-d883-4e68-f13a-2317e62bc95d"
      },
      "execution_count": null,
      "outputs": [
        {
          "output_type": "execute_result",
          "data": {
            "text/plain": [
              "0.8363195006357647"
            ]
          },
          "metadata": {},
          "execution_count": 58
        }
      ]
    },
    {
      "cell_type": "markdown",
      "source": [
        "RandomForestClassifier"
      ],
      "metadata": {
        "id": "ZMF9VFLTJ0DL"
      }
    },
    {
      "cell_type": "code",
      "source": [
        "from sklearn.ensemble import RandomForestClassifier\n",
        "rfc = RandomForestClassifier(n_estimators = )\n",
        "rfc.fit(X_train, Y_train)"
      ],
      "metadata": {
        "colab": {
          "base_uri": "https://localhost:8080/"
        },
        "id": "o25sY-oGJxaq",
        "outputId": "2a3662e9-deea-4c20-a68f-af8e07cdabb4"
      },
      "execution_count": null,
      "outputs": [
        {
          "output_type": "execute_result",
          "data": {
            "text/plain": [
              "RandomForestClassifier()"
            ]
          },
          "metadata": {},
          "execution_count": 142
        }
      ]
    },
    {
      "cell_type": "code",
      "source": [
        "rfc_train_pred = rfc.predict(X_train)\n",
        "rfc_train_predScore = rfc.score(X_train, Y_train)\n",
        "rfc_train_predScore"
      ],
      "metadata": {
        "colab": {
          "base_uri": "https://localhost:8080/"
        },
        "id": "8YajXDrKKOlu",
        "outputId": "ba1f27b0-7eee-44cf-ecfc-10485c19f6db"
      },
      "execution_count": null,
      "outputs": [
        {
          "output_type": "execute_result",
          "data": {
            "text/plain": [
              "0.99990091652217"
            ]
          },
          "metadata": {},
          "execution_count": 143
        }
      ]
    },
    {
      "cell_type": "code",
      "source": [
        "rfc_test_pred = rfc.predict(X_test)\n",
        "rfc_test_predScore = rfc.score(X_test, Y_test)\n",
        "rfc_test_predScore"
      ],
      "metadata": {
        "colab": {
          "base_uri": "https://localhost:8080/"
        },
        "id": "flD_qKSXKU4C",
        "outputId": "ca619f1c-6ba9-4848-c1fb-6b8e3ac252b7"
      },
      "execution_count": null,
      "outputs": [
        {
          "output_type": "execute_result",
          "data": {
            "text/plain": [
              "0.9204716217778292"
            ]
          },
          "metadata": {},
          "execution_count": 144
        }
      ]
    },
    {
      "cell_type": "markdown",
      "source": [
        "KNeighborsClassifier"
      ],
      "metadata": {
        "id": "uVAb738nKpzI"
      }
    },
    {
      "cell_type": "code",
      "source": [
        "from sklearn.neighbors import KNeighborsClassifier\n",
        "knc = KNeighborsClassifier()\n",
        "knc.fit(X_train, Y_train)"
      ],
      "metadata": {
        "colab": {
          "base_uri": "https://localhost:8080/"
        },
        "id": "bbFhzavHKpQs",
        "outputId": "942773f6-32b6-489e-810a-11798b0eb040"
      },
      "execution_count": null,
      "outputs": [
        {
          "output_type": "execute_result",
          "data": {
            "text/plain": [
              "KNeighborsClassifier()"
            ]
          },
          "metadata": {},
          "execution_count": 62
        }
      ]
    },
    {
      "cell_type": "code",
      "source": [
        "knc_train_pred = knc.predict(X_train)\n",
        "knc_train_predScore = knc.score(X_train, Y_train)\n",
        "knc_train_predScore"
      ],
      "metadata": {
        "colab": {
          "base_uri": "https://localhost:8080/"
        },
        "id": "lJ--16P9KlP5",
        "outputId": "1f2f7eee-e950-4914-d90f-461f934d5249"
      },
      "execution_count": null,
      "outputs": [
        {
          "output_type": "execute_result",
          "data": {
            "text/plain": [
              "0.9431260837255387"
            ]
          },
          "metadata": {},
          "execution_count": 63
        }
      ]
    },
    {
      "cell_type": "code",
      "source": [
        "knc_test_pred = knc.predict(X_test)\n",
        "knc_test_predScore = knc.score(X_test, Y_test)\n",
        "knc_test_predScore"
      ],
      "metadata": {
        "colab": {
          "base_uri": "https://localhost:8080/"
        },
        "id": "V_Y8EoiOK7uS",
        "outputId": "7e7f632c-2bbe-4fb3-b413-289f09efc26a"
      },
      "execution_count": null,
      "outputs": [
        {
          "output_type": "execute_result",
          "data": {
            "text/plain": [
              "0.9391977806033984"
            ]
          },
          "metadata": {},
          "execution_count": 64
        }
      ]
    },
    {
      "cell_type": "markdown",
      "source": [
        "DecisionTreeClassifier"
      ],
      "metadata": {
        "id": "E8RWz-tiLUfo"
      }
    },
    {
      "cell_type": "code",
      "source": [
        "from sklearn.tree import DecisionTreeClassifier\n",
        "dtc = DecisionTreeClassifier()\n",
        "dtc.fit(X_train, Y_train)"
      ],
      "metadata": {
        "colab": {
          "base_uri": "https://localhost:8080/"
        },
        "id": "75fbRw9fLT1i",
        "outputId": "76af15e7-c804-4b6a-c251-ccf48aec6a4d"
      },
      "execution_count": null,
      "outputs": [
        {
          "output_type": "execute_result",
          "data": {
            "text/plain": [
              "DecisionTreeClassifier()"
            ]
          },
          "metadata": {},
          "execution_count": 65
        }
      ]
    },
    {
      "cell_type": "code",
      "source": [
        "dtc_train_pred = dtc.predict(X_train)\n",
        "dtc_train_predScore = dtc.score(X_train, Y_train)\n",
        "dtc_train_predScore"
      ],
      "metadata": {
        "colab": {
          "base_uri": "https://localhost:8080/"
        },
        "id": "Dy85PRS-LibA",
        "outputId": "6ba68f63-fed8-42be-c9c9-0ead82187620"
      },
      "execution_count": null,
      "outputs": [
        {
          "output_type": "execute_result",
          "data": {
            "text/plain": [
              "1.0"
            ]
          },
          "metadata": {},
          "execution_count": 66
        }
      ]
    },
    {
      "cell_type": "code",
      "source": [
        "dtc_test_pred = dtc.predict(X_test)\n",
        "dtc_test_predScore = dtc.score(X_test, Y_test)\n",
        "dtc_test_predScore"
      ],
      "metadata": {
        "colab": {
          "base_uri": "https://localhost:8080/"
        },
        "id": "X9tTWtdLLj4B",
        "outputId": "8d28b1b2-04e9-41ff-d2ce-2a2bc730b41d"
      },
      "execution_count": null,
      "outputs": [
        {
          "output_type": "execute_result",
          "data": {
            "text/plain": [
              "0.8343544098948098"
            ]
          },
          "metadata": {},
          "execution_count": 67
        }
      ]
    },
    {
      "cell_type": "markdown",
      "source": [
        "SVC"
      ],
      "metadata": {
        "id": "XNicUmByMIYf"
      }
    },
    {
      "cell_type": "code",
      "source": [
        "from sklearn.svm import SVC\n",
        "svc = SVC(kernel = 'rbf')\n",
        "svc.fit(X_train, Y_train)"
      ],
      "metadata": {
        "colab": {
          "base_uri": "https://localhost:8080/"
        },
        "id": "0OO3m9TGL41s",
        "outputId": "f471271f-0019-4615-ff12-3b96c6965b61"
      },
      "execution_count": null,
      "outputs": [
        {
          "output_type": "execute_result",
          "data": {
            "text/plain": [
              "SVC()"
            ]
          },
          "metadata": {},
          "execution_count": 68
        }
      ]
    },
    {
      "cell_type": "code",
      "source": [
        "svc_train_pred = svc.predict(X_train)\n",
        "svc_train_predScore = svc.score(X_train, Y_train)\n",
        "svc_train_predScore"
      ],
      "metadata": {
        "colab": {
          "base_uri": "https://localhost:8080/"
        },
        "id": "EN05XG5KMYzY",
        "outputId": "97d89b0d-55b9-4033-faf2-6ef19bce20ae"
      },
      "execution_count": null,
      "outputs": [
        {
          "output_type": "execute_result",
          "data": {
            "text/plain": [
              "0.9415407480802577"
            ]
          },
          "metadata": {},
          "execution_count": 69
        }
      ]
    },
    {
      "cell_type": "code",
      "source": [
        "svc_test_pred = svc.predict(X_test)\n",
        "svc_test_predScore = svc.score(X_test, Y_test)\n",
        "svc_test_predScore"
      ],
      "metadata": {
        "colab": {
          "base_uri": "https://localhost:8080/"
        },
        "id": "RAJyrZAyMban",
        "outputId": "3d089aca-834d-4290-e030-0723a590ebc5"
      },
      "execution_count": null,
      "outputs": [
        {
          "output_type": "execute_result",
          "data": {
            "text/plain": [
              "0.9312218240665819"
            ]
          },
          "metadata": {},
          "execution_count": 70
        }
      ]
    },
    {
      "cell_type": "markdown",
      "source": [
        "XGBClassifier"
      ],
      "metadata": {
        "id": "2gKNtTkIb1ml"
      }
    },
    {
      "cell_type": "code",
      "source": [
        "from xgboost import XGBClassifier\n",
        "xgb = XGBClassifier(max_depth = 8)\n",
        "xgb.fit(X_train, Y_train)"
      ],
      "metadata": {
        "colab": {
          "base_uri": "https://localhost:8080/"
        },
        "id": "GsVU_FUObZg3",
        "outputId": "4ad65a1f-6a99-4a3c-88bc-424c24817511"
      },
      "execution_count": null,
      "outputs": [
        {
          "output_type": "execute_result",
          "data": {
            "text/plain": [
              "XGBClassifier(max_depth=8)"
            ]
          },
          "metadata": {},
          "execution_count": 105
        }
      ]
    },
    {
      "cell_type": "code",
      "source": [
        "xgb_train_pred = xgb.predict(X_train)\n",
        "xgb_train_predScore = xgb.score(X_train, Y_train)\n",
        "xgb_train_predScore"
      ],
      "metadata": {
        "colab": {
          "base_uri": "https://localhost:8080/"
        },
        "id": "9h9FkpMScQvR",
        "outputId": "e2f63275-52ff-429a-fe90-a47690bdd368"
      },
      "execution_count": null,
      "outputs": [
        {
          "output_type": "execute_result",
          "data": {
            "text/plain": [
              "0.9466930889274213"
            ]
          },
          "metadata": {},
          "execution_count": 106
        }
      ]
    },
    {
      "cell_type": "code",
      "source": [
        "xgb_test_pred = xgb.predict(X_test)\n",
        "xgb_test_predScore = xgb.score(X_test, Y_test)\n",
        "xgb_test_predScore"
      ],
      "metadata": {
        "colab": {
          "base_uri": "https://localhost:8080/"
        },
        "id": "YlJLwJ3-caNH",
        "outputId": "ea47e359-76b4-4714-eace-92f283d70d5d"
      },
      "execution_count": null,
      "outputs": [
        {
          "output_type": "execute_result",
          "data": {
            "text/plain": [
              "0.9151543174199515"
            ]
          },
          "metadata": {},
          "execution_count": 107
        }
      ]
    },
    {
      "cell_type": "code",
      "source": [
        "from sklearn import metrics\n",
        "acc_score = []\n",
        "for i in range(1, 40):\n",
        "  kclassifier = KNeighborsClassifier(n_neighbors = i)\n",
        "  kclassifier.fit(X_train, Y_train)\n",
        "  Y_predk = kclassifier.predict(X_test)\n",
        "  acc_score.append(metrics.accuracy_score(Y_test, Y_predk))"
      ],
      "metadata": {
        "id": "JoXGJbX0hIWf"
      },
      "execution_count": null,
      "outputs": []
    },
    {
      "cell_type": "code",
      "source": [
        "plt.figure(figsize = (10, 6))\n",
        "plt.plot(range(1, 40), acc_score)\n",
        "plt.title('Accuracy score vs K-value')\n",
        "plt.xlabel('K-value')\n",
        "plt.ylabel('Accuracy Score')\n",
        "print(\"Maximum Accuracy:-\",max(acc_score) * 100,\"at K =\",acc_score.index(max(acc_score)))"
      ],
      "metadata": {
        "colab": {
          "base_uri": "https://localhost:8080/",
          "height": 421
        },
        "id": "fOtMoc3mhZ58",
        "outputId": "88ba1fb3-389e-4448-af90-428569482d2d"
      },
      "execution_count": null,
      "outputs": [
        {
          "output_type": "stream",
          "name": "stdout",
          "text": [
            "Maximum Accuracy:- 94.09316841983586 at K = 6\n"
          ]
        },
        {
          "output_type": "display_data",
          "data": {
            "text/plain": [
              "<Figure size 720x432 with 1 Axes>"
            ],
            "image/png": "[encoded data removed]"
          },
          "metadata": {
            "needs_background": "light"
          }
        }
      ]
    }
  ]
}